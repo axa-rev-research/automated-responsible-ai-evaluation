{
 "cells": [
  {
   "cell_type": "code",
   "execution_count": null,
   "metadata": {
    "tags": []
   },
   "outputs": [],
   "source": [
    "%pip install openai"
   ]
  },
  {
   "cell_type": "code",
   "execution_count": null,
   "metadata": {
    "tags": []
   },
   "outputs": [],
   "source": [
    "import os\n",
    "import openai"
   ]
  },
  {
   "cell_type": "markdown",
   "metadata": {},
   "source": [
    "### Helper functions"
   ]
  },
  {
   "cell_type": "code",
   "execution_count": null,
   "metadata": {
    "tags": []
   },
   "outputs": [],
   "source": [
    "def save_result(path_name, file_name, result):\n",
    "    \"\"\"\n",
    "    Save the result to a file.\n",
    "    \n",
    "    Args:\n",
    "        path_name (str): Path to save the file\n",
    "        file_name (str): Name of the file\n",
    "        result (str): Content to save\n",
    "    \"\"\"\n",
    "    file_path = os.path.join(path_name, f\"{file_name}.md\")\n",
    "    os.makedirs(os.path.dirname(file_path), exist_ok=True)\n",
    "    \n",
    "    with open(file_path, 'w') as file:\n",
    "        file.write(result)\n",
    "        \n",
    "def setup_environment():\n",
    "    \"\"\"Set up the environment variables.\"\"\"\n",
    "    try:\n",
    "        api_key = os.environ[\"GPT_KEY\"]\n",
    "    except KeyError:\n",
    "        print(\"Please set the environment variable GPT_KEY\")\n",
    "        api_key = input(\"Enter your OpenAI API key: \")\n",
    "        openai.api_key = api_key\n",
    "\n",
    "def generate_response(messages):\n",
    "    response = openai.ChatCompletion.create(\n",
    "        model=\"gpt-4-0125-preview\",\n",
    "        messages=messages,\n",
    "        temperature=0,\n",
    "        seed=25   \n",
    "    )\n",
    "\n",
    "    print(response.usage[\"total_tokens\"])\n",
    "    \n",
    "    return response.choices[0].message.content"
   ]
  },
  {
   "cell_type": "markdown",
   "metadata": {},
   "source": [
    "## 1. Set up the model"
   ]
  },
  {
   "cell_type": "markdown",
   "metadata": {},
   "source": [
    "You can temporarily add your API key by using Python with os.environ[\"GPT_KEY\"]=\"YOUR_API_KEY\"\n",
    "\n",
    "WARNING: NEVER SHARE/PUSH YOUR API KEY"
   ]
  },
  {
   "cell_type": "code",
   "execution_count": null,
   "metadata": {
    "tags": []
   },
   "outputs": [],
   "source": [
    "setup_environment()"
   ]
  },
  {
   "cell_type": "markdown",
   "metadata": {},
   "source": [
    "## 2. Set file directories"
   ]
  },
  {
   "cell_type": "markdown",
   "metadata": {},
   "source": [
    "### Sample files and templates for the LLM"
   ]
  },
  {
   "cell_type": "code",
   "execution_count": null,
   "metadata": {
    "tags": []
   },
   "outputs": [],
   "source": [
    "analysis_template_path = \"files/templates/analysis-template.md\"\n",
    "sample_case_path = \"files/templates/sample-case.md\"\n",
    "sample_case_2_path = \"files/templates/sample-case-2.md\"\n",
    "sample_analysis_path = \"files/templates/sample-analysis.md\"\n",
    "sample_analysis_2_path = \"files/templates/sample-analysis-2.md\"\n",
    "\n",
    "analysis_template = open(analysis_template_path, \"r\").read()\n",
    "\n",
    "sample_case = open(sample_case_path, \"r\").read()\n",
    "sample_analysis = open(sample_analysis_path, \"r\").read()\n",
    "\n",
    "sample_case_2 = open(sample_case_2_path, \"r\").read()\n",
    "sample_analysis_2 = open(sample_analysis_2_path, \"r\").read()"
   ]
  },
  {
   "cell_type": "markdown",
   "metadata": {},
   "source": [
    "### Individual case to analyze"
   ]
  },
  {
   "cell_type": "code",
   "execution_count": null,
   "metadata": {
    "tags": []
   },
   "outputs": [],
   "source": [
    "case_name = \"norauto\"\n",
    "\n",
    "file_path = \"files/cases/\" +  case_name + \"/description.md\"\n",
    "case_description = open(file_path, \"r\").read()"
   ]
  },
  {
   "cell_type": "markdown",
   "metadata": {},
   "source": [
    "## 3. Start Analysis"
   ]
  },
  {
   "cell_type": "code",
   "execution_count": null,
   "metadata": {
    "tags": []
   },
   "outputs": [],
   "source": [
    "messages = [\n",
    "    {\"role\": \"system\", \"content\": f\"You are an expert in AI ethics, law, and engineering, specializing in addressing discrimination and fairness issues in models. Please conduct a detailed analysis of the provided dataset, considering ethical, legal, and engineering aspects related to fairness and bias. The analysis should be structured in a markdown format with the following sections: \\n{analysis_template}\"},\n",
    "    {\"role\": \"user\", \"content\": f\"Data and use case: {sample_case}\"},\n",
    "    {\"role\": \"assistant\", \"content\": sample_analysis},\n",
    "    {\"role\": \"user\", \"content\": f\"This is a valid analysis. Please do an analysis with this dataset and use case: {sample_case_2}\"},\n",
    "    {\"role\": \"assistant\", \"content\": sample_analysis_2},\n",
    "    {\"role\": \"user\", \"content\": f\"This is a valid analysis. Please do an analysis with this dataset and use case: {case_description}\"},\n",
    "]"
   ]
  },
  {
   "cell_type": "code",
   "execution_count": null,
   "metadata": {
    "tags": []
   },
   "outputs": [],
   "source": [
    "%%time\n",
    "result = generate_response(messages)\n",
    "print(result)"
   ]
  },
  {
   "cell_type": "code",
   "execution_count": null,
   "metadata": {
    "tags": []
   },
   "outputs": [],
   "source": [
    "case_path = \"files/cases/\" + case_name + \"/\"\n",
    "save_result(case_path, \"ethics-analysis\", result)"
   ]
  },
  {
   "cell_type": "code",
   "execution_count": null,
   "metadata": {},
   "outputs": [],
   "source": []
  }
 ],
 "metadata": {
  "kernelspec": {
   "display_name": "Python3",
   "language": "python",
   "name": "python3"
  },
  "language_info": {
   "codemirror_mode": {
    "name": "ipython",
    "version": 3
   },
   "file_extension": ".py",
   "mimetype": "text/x-python",
   "name": "python",
   "nbconvert_exporter": "python",
   "pygments_lexer": "ipython3",
   "version": "3.11.5"
  }
 },
 "nbformat": 4,
 "nbformat_minor": 4
}
