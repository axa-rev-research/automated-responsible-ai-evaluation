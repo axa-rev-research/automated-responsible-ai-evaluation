{
 "cells": [
  {
   "cell_type": "code",
   "execution_count": null,
   "metadata": {
    "tags": []
   },
   "outputs": [],
   "source": [
    "%pip install openai"
   ]
  },
  {
   "cell_type": "code",
   "execution_count": null,
   "metadata": {
    "tags": []
   },
   "outputs": [],
   "source": [
    "import openai\n",
    "import os"
   ]
  },
  {
   "cell_type": "markdown",
   "metadata": {},
   "source": [
    "### Helper functions"
   ]
  },
  {
   "cell_type": "code",
   "execution_count": null,
   "metadata": {
    "tags": []
   },
   "outputs": [],
   "source": [
    "def save_result(path_name, file_name, result):\n",
    "    \"\"\"\n",
    "    Save the result to a file.\n",
    "    \n",
    "    Args:\n",
    "        path_name (str): Path to save the file\n",
    "        file_name (str): Name of the file\n",
    "        result (str): Content to save\n",
    "    \"\"\"\n",
    "    file_path = os.path.join(path_name, f\"{file_name}.md\")\n",
    "    os.makedirs(os.path.dirname(file_path), exist_ok=True)\n",
    "    \n",
    "    with open(file_path, 'w') as file:\n",
    "        file.write(result)\n",
    "        \n",
    "def setup_environment():\n",
    "    \"\"\"Set up the environment variables.\"\"\"\n",
    "    try:\n",
    "        api_key = os.environ[\"GPT_KEY\"]\n",
    "    except KeyError:\n",
    "        print(\"Please set the environment variable GPT_KEY\")\n",
    "        api_key = input(\"Enter your OpenAI API key: \")\n",
    "        openai.api_key = api_key\n",
    "\n",
    "def generate_response(messages):\n",
    "    response = openai.ChatCompletion.create(\n",
    "        model=\"gpt-4o\",\n",
    "        messages=messages,\n",
    "        temperature=0.3,\n",
    "        seed=25   \n",
    "    )\n",
    "\n",
    "    print(response.usage[\"total_tokens\"])\n",
    "    \n",
    "    return response.choices[0].message.content"
   ]
  },
  {
   "cell_type": "code",
   "execution_count": null,
   "metadata": {
    "tags": []
   },
   "outputs": [],
   "source": [
    "def extract_false_positive(text):\n",
    "    false_positive = None\n",
    "    \n",
    "    # Split the text into lines and iterate through them\n",
    "    lines = text.splitlines()\n",
    "    \n",
    "    for line in lines:\n",
    "        if \"FP:\" in line:\n",
    "            parts = line.split(\"FP:\", 1)\n",
    "            if len(parts) > 1:\n",
    "                false_positive = int(parts[1].strip())\n",
    "                break\n",
    "    \n",
    "    return false_positive\n"
   ]
  },
  {
   "cell_type": "markdown",
   "metadata": {},
   "source": [
    "## 1. Set up the model"
   ]
  },
  {
   "cell_type": "code",
   "execution_count": null,
   "metadata": {
    "tags": []
   },
   "outputs": [],
   "source": [
    "setup_environment()"
   ]
  },
  {
   "cell_type": "markdown",
   "metadata": {},
   "source": [
    "## 2. Set file directories"
   ]
  },
  {
   "cell_type": "markdown",
   "metadata": {},
   "source": [
    "### Sample files and templates for the LLM"
   ]
  },
  {
   "cell_type": "code",
   "execution_count": null,
   "metadata": {
    "tags": []
   },
   "outputs": [],
   "source": [
    "case_name = \"norauto\"\n",
    "file_name = \"model-card-updated\"\n",
    "    \n",
    "if file_name == \"model-card-updated\":\n",
    "    with open(f'files/model-cards-final/{case_name}-{file_name}.md', 'r') as file:\n",
    "        ground_truth = file.read()\n",
    "    \n",
    "    with open(f'../Steps-v3-thesis/files/model-cards-final/{case_name}-{file_name}.md', 'r') as file:\n",
    "        generated_analysis = file.read()\n",
    "else:\n",
    "    with open(f'files/cases/{case_name}/{file_name}.md', 'r') as file:\n",
    "        ground_truth = file.read()\n",
    "    \n",
    "    with open(f'../Steps-v3-thesis/files/cases/{case_name}/{file_name}.md', 'r') as file:\n",
    "        generated_analysis = file.read()\n",
    "\n",
    "with open(f'files/grading-rules/grading_rules.md', 'r') as file:\n",
    "    grading_rules = file.read()"
   ]
  },
  {
   "cell_type": "markdown",
   "metadata": {},
   "source": [
    "# 1. Summarize texts"
   ]
  },
  {
   "cell_type": "code",
   "execution_count": null,
   "metadata": {
    "tags": []
   },
   "outputs": [],
   "source": [
    "messages = [\n",
    "    {\"role\": \"system\", \"content\": \"You are an expert in converting detailed texts into concise, granular bullet points. Avoid creating sub-lists, all points must be on the same indentation level. You will be given a text and your task is to summarize the provided it into a numerical bullet point list. Ensure that each bullet point is clear, complete, and independent, capturing all critical details without losing essential information.\"},\n",
    "    {\"role\": \"user\", \"content\": \"Text: \\n{text}\"},\n",
    "]"
   ]
  },
  {
   "cell_type": "code",
   "execution_count": null,
   "metadata": {
    "tags": []
   },
   "outputs": [],
   "source": [
    "# Store the original template\n",
    "original_template = \"Text: \\n{text}\""
   ]
  },
  {
   "cell_type": "markdown",
   "metadata": {},
   "source": [
    "## Summarize ground truth"
   ]
  },
  {
   "cell_type": "code",
   "execution_count": null,
   "metadata": {
    "tags": []
   },
   "outputs": [],
   "source": [
    "messages[1][\"content\"] = original_template.format(text=ground_truth)"
   ]
  },
  {
   "cell_type": "code",
   "execution_count": null,
   "metadata": {
    "tags": []
   },
   "outputs": [],
   "source": [
    "%%time\n",
    "bullet_list_ground = generate_response(messages)\n",
    "print(bullet_list_ground)"
   ]
  },
  {
   "cell_type": "markdown",
   "metadata": {
    "execution": {
     "iopub.execute_input": "2024-08-24T07:11:39.169135Z",
     "iopub.status.busy": "2024-08-24T07:11:39.167828Z",
     "iopub.status.idle": "2024-08-24T07:11:39.181207Z",
     "shell.execute_reply": "2024-08-24T07:11:39.178284Z",
     "shell.execute_reply.started": "2024-08-24T07:11:39.169045Z"
    },
    "tags": []
   },
   "source": [
    "## Summarize generated analysis"
   ]
  },
  {
   "cell_type": "code",
   "execution_count": null,
   "metadata": {
    "tags": []
   },
   "outputs": [],
   "source": [
    "messages[1][\"content\"] = original_template.format(text=generated_analysis)"
   ]
  },
  {
   "cell_type": "code",
   "execution_count": null,
   "metadata": {
    "tags": []
   },
   "outputs": [],
   "source": [
    "%%time\n",
    "bullet_list_generated = generate_response(messages)\n",
    "print(bullet_list_generated)"
   ]
  },
  {
   "cell_type": "markdown",
   "metadata": {
    "execution": {
     "iopub.execute_input": "2024-08-24T07:25:10.233501Z",
     "iopub.status.busy": "2024-08-24T07:25:10.232679Z",
     "iopub.status.idle": "2024-08-24T07:25:10.248405Z",
     "shell.execute_reply": "2024-08-24T07:25:10.245064Z",
     "shell.execute_reply.started": "2024-08-24T07:25:10.233428Z"
    },
    "tags": []
   },
   "source": [
    "# 2. Compare texts"
   ]
  },
  {
   "cell_type": "code",
   "execution_count": null,
   "metadata": {
    "tags": []
   },
   "outputs": [],
   "source": [
    "system_template = \"\"\"You are an expert in fairness evaluation. You will be provided with a summarized list and an unedited on the same topic. Your task is to compare each element of the list with the unedited to determine if there is a semantically similar match.\n",
    "     Follow additional rules that are under the {file_name} title when matching them.\n",
    "     **Definition of Similar:** Two points are considered \"similar\" if they convey the same core idea or meaning, even if the wording is different. A point is semantically similar if the text addresses the same subject, intent, or concept as the corresponding list element.\n",
    "\n",
    "     For each element point in the list, follow these steps:\n",
    "     1. Identify if a semantically similar point exists in the unedited text.\n",
    "     2. If a match is found, classify it as a full match or partial match based on the similarity.\n",
    "     3. If no match is found, mark it accordingly and justify.\n",
    "\n",
    "     Each ground truth point should be evaluated independently; avoid merging or separating points. Keep the enumeration format.\n",
    "     Use the following structure for reporting:\n",
    "\n",
    "     1. List element / Semantically similar text point (Full Match)\n",
    "     2. List element / Same topic but semantically different text point (Partial Match)\n",
    "     3. List element / No match in the text analysis (No Match)\n",
    "\n",
    "     After evaluation, count the number of total points in the list, Full Match, Partial Match and No Match.\n",
    "     {special_mode}\n",
    "     \"\"\"\n",
    "\n",
    "user_template = \"Rules:\\n{grading_rules}\\nSummarized list:\\n{bullet_list}\\nUnedited text:\\n{unedited_text}\""
   ]
  },
  {
   "cell_type": "code",
   "execution_count": null,
   "metadata": {
    "tags": []
   },
   "outputs": [],
   "source": [
    "messages = [\n",
    "    {\"role\": \"system\", \"content\": system_template.format(file_name=file_name, special_mode=\"Add a new field called 'FP' which is equal to the number of No Match found. In a new line, use the following format: 'FP:'\")},\n",
    "    {\"role\": \"user\", \"content\": user_template.format(grading_rules=grading_rules, bullet_list=bullet_list_generated, unedited_text=ground_truth)},\n",
    "] "
   ]
  },
  {
   "cell_type": "markdown",
   "metadata": {},
   "source": [
    "## Summarized generated analysis vs ground truth"
   ]
  },
  {
   "cell_type": "code",
   "execution_count": null,
   "metadata": {
    "tags": []
   },
   "outputs": [],
   "source": [
    "%time\n",
    "matches = generate_response(messages)\n",
    "print(matches)"
   ]
  },
  {
   "cell_type": "code",
   "execution_count": null,
   "metadata": {
    "tags": []
   },
   "outputs": [],
   "source": [
    "extract_false_positive(matches)"
   ]
  },
  {
   "cell_type": "code",
   "execution_count": null,
   "metadata": {
    "tags": []
   },
   "outputs": [],
   "source": [
    "false_positive = extract_false_positive(matches)"
   ]
  },
  {
   "cell_type": "markdown",
   "metadata": {},
   "source": [
    "## Summarized ground truth vs generated analysis"
   ]
  },
  {
   "cell_type": "code",
   "execution_count": null,
   "metadata": {
    "tags": []
   },
   "outputs": [],
   "source": [
    "special_mode = f\"\"\"After the evaluation, calculate precision, recall and F1 score by using these definitions:\n",
    "     - TP = Number of Full Match + 0.5 * Number of Partial Match\n",
    "     - FP = {false_positive}\n",
    "     - FN = Number of No Match\n",
    "     \"\"\""
   ]
  },
  {
   "cell_type": "code",
   "execution_count": null,
   "metadata": {
    "tags": []
   },
   "outputs": [],
   "source": [
    "messages = [\n",
    "    {\"role\": \"system\", \"content\": system_template.format(file_name=file_name, special_mode=special_mode)},\n",
    "    {\"role\": \"user\", \"content\": user_template.format(grading_rules=grading_rules, bullet_list=bullet_list_ground, unedited_text=generated_analysis)},\n",
    "] "
   ]
  },
  {
   "cell_type": "code",
   "execution_count": null,
   "metadata": {
    "tags": []
   },
   "outputs": [],
   "source": [
    "%%time\n",
    "eval_result = generate_response(messages)\n",
    "print(eval_result)\n",
    "\n",
    "case_path = \"files/evaluations/\" + case_name + \"/\"\n",
    "evaluation_name = case_name + \"-\" + file_name + \"-evaluation\"\n",
    "\n",
    "save_result(case_path, evaluation_name, eval_result)"
   ]
  }
 ],
 "metadata": {
  "kernelspec": {
   "display_name": "Python3",
   "language": "python",
   "name": "python3"
  },
  "language_info": {
   "codemirror_mode": {
    "name": "ipython",
    "version": 3
   },
   "file_extension": ".py",
   "mimetype": "text/x-python",
   "name": "python",
   "nbconvert_exporter": "python",
   "pygments_lexer": "ipython3",
   "version": "3.11.5"
  }
 },
 "nbformat": 4,
 "nbformat_minor": 4
}
