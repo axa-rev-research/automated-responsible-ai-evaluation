{
 "cells": [
  {
   "cell_type": "code",
   "execution_count": 1,
   "metadata": {
    "execution": {
     "iopub.execute_input": "2024-08-22T20:23:09.608353Z",
     "iopub.status.busy": "2024-08-22T20:23:09.607577Z",
     "iopub.status.idle": "2024-08-22T20:23:10.968086Z",
     "shell.execute_reply": "2024-08-22T20:23:10.966838Z"
    }
   },
   "outputs": [],
   "source": [
    "import pandas as pd\n",
    "import warnings\n",
    "from sklearn.model_selection import train_test_split\n",
    "from sklearn.metrics import accuracy_score, precision_score, recall_score, f1_score\n",
    "from sklearn.linear_model import LogisticRegression\n",
    "from sklearn.exceptions import ConvergenceWarning\n",
    "\n",
    "# Filter out the ConvergenceWarning\n",
    "warnings.filterwarnings(\"ignore\", category=ConvergenceWarning)"
   ]
  },
  {
   "cell_type": "code",
   "execution_count": 2,
   "metadata": {
    "execution": {
     "iopub.execute_input": "2024-08-22T20:23:10.976577Z",
     "iopub.status.busy": "2024-08-22T20:23:10.976152Z",
     "iopub.status.idle": "2024-08-22T20:23:11.060368Z",
     "shell.execute_reply": "2024-08-22T20:23:11.059380Z"
    }
   },
   "outputs": [],
   "source": [
    "# Configuration\n",
    "dataset_name = \"ausprivauto0405\"\n",
    "target_column = \"ClaimNb\"\n",
    "file_path = f\"{dataset_name}.csv\"\n",
    "test_size = 0.2\n",
    "random_state = 42\n",
    "\n",
    "# Load the data\n",
    "df = pd.read_csv(file_path, index_col=0)"
   ]
  },
  {
   "cell_type": "code",
   "execution_count": 3,
   "metadata": {
    "execution": {
     "iopub.execute_input": "2024-08-22T20:23:11.068404Z",
     "iopub.status.busy": "2024-08-22T20:23:11.068128Z",
     "iopub.status.idle": "2024-08-22T20:23:11.117890Z",
     "shell.execute_reply": "2024-08-22T20:23:11.116578Z"
    }
   },
   "outputs": [],
   "source": [
    "# Convert categorical columns to one-hot encoding\n",
    "categorical_features = df.select_dtypes(include=['category', 'object']).columns.tolist()\n",
    "\n",
    "for feature in categorical_features:\n",
    "    onehot = pd.get_dummies(df[feature], prefix=feature)\n",
    "    df = df.drop(feature, axis=1)\n",
    "    df = df.join(onehot)\n"
   ]
  },
  {
   "cell_type": "code",
   "execution_count": 4,
   "metadata": {
    "execution": {
     "iopub.execute_input": "2024-08-22T20:23:11.125639Z",
     "iopub.status.busy": "2024-08-22T20:23:11.125322Z",
     "iopub.status.idle": "2024-08-22T20:23:11.576895Z",
     "shell.execute_reply": "2024-08-22T20:23:11.575453Z"
    }
   },
   "outputs": [
    {
     "name": "stdout",
     "output_type": "stream",
     "text": [
      "Initial model performance:\n",
      "Accuracy: 0.60662\n",
      "Precision: 0.09745\n",
      "F1 Score: 0.16799\n",
      "Recall: 0.60835\n"
     ]
    }
   ],
   "source": [
    "# Prepare features and target\n",
    "X = df.drop(target_column, axis=1)\n",
    "y = df[target_column]\n",
    "\n",
    "# Split the data\n",
    "x_train, x_test, y_train, y_test = train_test_split(X, y, test_size=test_size, random_state=random_state)\n",
    "\n",
    "# Train initial model\n",
    "model = LogisticRegression(solver='liblinear', class_weight='balanced', max_iter=100)\n",
    "model.fit(x_train, y_train)\n",
    "\n",
    "# Make predictions\n",
    "y_pred = model.predict(x_test)\n",
    "\n",
    "# Evaluate initial model\n",
    "print(\"Initial model performance:\")\n",
    "print(f\"Accuracy: {accuracy_score(y_test, y_pred):.5f}\")\n",
    "print(f\"Precision: {precision_score(y_test, y_pred):.5f}\")\n",
    "print(f\"F1 Score: {f1_score(y_test, y_pred):.5f}\")\n",
    "print(f\"Recall: {recall_score(y_test, y_pred):.5f}\")"
   ]
  },
  {
   "cell_type": "code",
   "execution_count": 7,
   "metadata": {
    "execution": {
     "iopub.execute_input": "2024-08-22T20:23:12.609869Z",
     "iopub.status.busy": "2024-08-22T20:23:12.609600Z",
     "iopub.status.idle": "2024-08-22T20:23:12.752400Z",
     "shell.execute_reply": "2024-08-22T20:23:12.751214Z"
    }
   },
   "outputs": [
    {
     "name": "stdout",
     "output_type": "stream",
     "text": [
      "Equalized Odds Difference for Gender:  0.011526788382003716\n"
     ]
    }
   ],
   "source": [
    "from fairlearn.metrics import equalized_odds_difference\n",
    "\n",
    "# Assuming 'Gender' was somehow preserved or can be inferred for fairness analysis\n",
    "# If 'Gender' is directly available, use it as shown below\n",
    "# If 'Gender' is not directly available, you might need to infer it from one-hot encoded columns or adjust your preprocessing\n",
    "\n",
    "# For demonstration, let's assume 'Gender' is directly available in `x_test`\n",
    "# This is a placeholder step; you need to ensure 'Gender' is correctly extracted from your dataset\n",
    "sensitive_features_gender = x_test['Gender'] if 'Gender' in x_test.columns else None\n",
    "\n",
    "# If 'Gender' was one-hot encoded, you might need to reconstruct it, for example:\n",
    "# sensitive_features_gender = x_test[['Gender_Male', 'Gender_Female']].idxmax(axis=1)\n",
    "\n",
    "if sensitive_features_gender is not None:\n",
    "    # Calculate the equalized odds difference\n",
    "    eo_difference = equalized_odds_difference(y_test, y_pred, sensitive_features=sensitive_features_gender)\n",
    "    print(\"Equalized Odds Difference for Gender: \", eo_difference)\n",
    "else:\n",
    "    print(\"Sensitive attribute 'Gender' is not available for fairness analysis.\")"
   ]
  },
  {
   "cell_type": "code",
   "execution_count": 8,
   "metadata": {
    "execution": {
     "iopub.execute_input": "2024-08-22T20:23:12.760023Z",
     "iopub.status.busy": "2024-08-22T20:23:12.759731Z",
     "iopub.status.idle": "2024-08-22T20:23:13.804991Z",
     "shell.execute_reply": "2024-08-22T20:23:13.803756Z"
    }
   },
   "outputs": [
    {
     "name": "stderr",
     "output_type": "stream",
     "text": [
      "/opt/jlab-env/lib/python3.11/site-packages/fairlearn/postprocessing/_threshold_optimizer.py:288: FutureWarning: 'predict_method' default value is changed from 'predict' to 'auto'. Explicitly pass `predict_method='predict' to replicate the old behavior, or pass `predict_method='auto' or other valid values to silence this warning.\n",
      "  warn(\n"
     ]
    },
    {
     "name": "stdout",
     "output_type": "stream",
     "text": [
      "Mitigated model performance:\n",
      "Accuracy: 0.60640\n",
      "Precision: 0.09783\n",
      "F1 Score: 0.16869\n",
      "Recall: 0.61174\n",
      "Equalized Odds Difference (Mitigated):  0.008040970158250893\n"
     ]
    }
   ],
   "source": [
    "# Import necessary libraries and methods\n",
    "from fairlearn.postprocessing import ThresholdOptimizer\n",
    "from fairlearn.metrics import equalized_odds_difference\n",
    "from sklearn.metrics import accuracy_score, precision_score, recall_score, f1_score\n",
    "\n",
    "# Create a ThresholdOptimizer instance with equalized_odds constraint\n",
    "mitigated_model = ThresholdOptimizer(estimator=model, constraints='equalized_odds', objective='balanced_accuracy_score')\n",
    "\n",
    "# Fit the mitigated model to the training data along with the sensitive feature\n",
    "mitigated_model.fit(x_train, y_train, sensitive_features=x_train['Gender'])\n",
    "\n",
    "# Predict on the test data using the mitigated model\n",
    "y_pred_mitigated = mitigated_model.predict(x_test, sensitive_features=x_test['Gender'])\n",
    "\n",
    "# Evaluate the performance of the mitigated model\n",
    "accuracy_mitigated = accuracy_score(y_test, y_pred_mitigated)\n",
    "precision_mitigated = precision_score(y_test, y_pred_mitigated)\n",
    "recall_mitigated = recall_score(y_test, y_pred_mitigated)\n",
    "f1_mitigated = f1_score(y_test, y_pred_mitigated)\n",
    "\n",
    "# Calculate the Equalized Odds Difference for the mitigated model\n",
    "eo_mitigated = equalized_odds_difference(y_test, y_pred_mitigated, sensitive_features=x_test['Gender'])\n",
    "\n",
    "# Print the performance metrics and fairness metric of the mitigated model\n",
    "print(\"Mitigated model performance:\")\n",
    "print(f\"Accuracy: {accuracy_mitigated:.5f}\")\n",
    "print(f\"Precision: {precision_mitigated:.5f}\")\n",
    "print(f\"F1 Score: {f1_mitigated:.5f}\")\n",
    "print(f\"Recall: {recall_mitigated:.5f}\")\n",
    "print(\"Equalized Odds Difference (Mitigated): \", eo_mitigated)"
   ]
  }
 ],
 "metadata": {
  "kernelspec": {
   "display_name": "Python3",
   "language": "python",
   "name": "python3"
  },
  "language_info": {
   "codemirror_mode": {
    "name": "ipython",
    "version": 3
   },
   "file_extension": ".py",
   "mimetype": "text/x-python",
   "name": "python",
   "nbconvert_exporter": "python",
   "pygments_lexer": "ipython3",
   "version": "3.11.5"
  },
  "path": "files/model-generator/ausprivauto0405/"
 },
 "nbformat": 4,
 "nbformat_minor": 4
}
