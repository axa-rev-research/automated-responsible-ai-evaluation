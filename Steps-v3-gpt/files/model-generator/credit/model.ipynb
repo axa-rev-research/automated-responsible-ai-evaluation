{
 "cells": [
  {
   "cell_type": "code",
   "execution_count": 1,
   "metadata": {
    "execution": {
     "iopub.execute_input": "2024-08-22T20:39:09.112404Z",
     "iopub.status.busy": "2024-08-22T20:39:09.111655Z",
     "iopub.status.idle": "2024-08-22T20:39:10.511430Z",
     "shell.execute_reply": "2024-08-22T20:39:10.509259Z",
     "shell.execute_reply.started": "2024-08-22T20:39:09.112332Z"
    }
   },
   "outputs": [],
   "source": [
    "import pandas as pd\n",
    "from sklearn.model_selection import train_test_split, GridSearchCV\n",
    "from sklearn.metrics import accuracy_score, precision_score, recall_score, f1_score\n",
    "from sklearn.linear_model import LogisticRegression\n",
    "from sklearn.preprocessing import StandardScaler\n",
    "from sklearn.utils import resample\n",
    "import warnings\n",
    "from sklearn.exceptions import ConvergenceWarning\n",
    "\n",
    "# Filter out ConvergenceWarning\n",
    "warnings.filterwarnings(\"ignore\", category=ConvergenceWarning)\n",
    "warnings.filterwarnings(\"ignore\", category=FutureWarning)"
   ]
  },
  {
   "cell_type": "code",
   "execution_count": 2,
   "metadata": {
    "execution": {
     "iopub.execute_input": "2024-08-22T20:39:10.513898Z",
     "iopub.status.busy": "2024-08-22T20:39:10.513530Z",
     "iopub.status.idle": "2024-08-22T20:39:10.530146Z",
     "shell.execute_reply": "2024-08-22T20:39:10.528938Z",
     "shell.execute_reply.started": "2024-08-22T20:39:10.513872Z"
    }
   },
   "outputs": [],
   "source": [
    "# Set up parameters\n",
    "dataset_name = \"credit\"\n",
    "y_label = \"class\"\n",
    "csv_file_path = f\"{dataset_name}.csv\"\n",
    "\n",
    "# Load the CSV file as a DataFrame, ignoring the first column\n",
    "df = pd.read_csv(csv_file_path, index_col=0)\n"
   ]
  },
  {
   "cell_type": "code",
   "execution_count": 3,
   "metadata": {
    "execution": {
     "iopub.execute_input": "2024-08-22T20:39:10.531469Z",
     "iopub.status.busy": "2024-08-22T20:39:10.531161Z",
     "iopub.status.idle": "2024-08-22T20:39:10.598965Z",
     "shell.execute_reply": "2024-08-22T20:39:10.597902Z",
     "shell.execute_reply.started": "2024-08-22T20:39:10.531443Z"
    }
   },
   "outputs": [
    {
     "data": {
      "text/html": [
       "<div>\n",
       "<style scoped>\n",
       "    .dataframe tbody tr th:only-of-type {\n",
       "        vertical-align: middle;\n",
       "    }\n",
       "\n",
       "    .dataframe tbody tr th {\n",
       "        vertical-align: top;\n",
       "    }\n",
       "\n",
       "    .dataframe thead th {\n",
       "        text-align: right;\n",
       "    }\n",
       "</style>\n",
       "<table border=\"1\" class=\"dataframe\">\n",
       "  <thead>\n",
       "    <tr style=\"text-align: right;\">\n",
       "      <th></th>\n",
       "      <th>checking_status</th>\n",
       "      <th>credit_history</th>\n",
       "      <th>credit_amount</th>\n",
       "      <th>savings</th>\n",
       "      <th>employment</th>\n",
       "      <th>other_parties</th>\n",
       "      <th>residence_since</th>\n",
       "      <th>property_magnitude</th>\n",
       "      <th>age</th>\n",
       "      <th>other_payment_plans</th>\n",
       "      <th>housing</th>\n",
       "      <th>existing_credits</th>\n",
       "      <th>job</th>\n",
       "      <th>num_dependents</th>\n",
       "      <th>telephone</th>\n",
       "      <th>foreign_worker</th>\n",
       "      <th>class</th>\n",
       "      <th>Gender</th>\n",
       "    </tr>\n",
       "  </thead>\n",
       "  <tbody>\n",
       "    <tr>\n",
       "      <th>0</th>\n",
       "      <td>A11</td>\n",
       "      <td>A34</td>\n",
       "      <td>1169</td>\n",
       "      <td>A65</td>\n",
       "      <td>A75</td>\n",
       "      <td>A101</td>\n",
       "      <td>4</td>\n",
       "      <td>A121</td>\n",
       "      <td>67</td>\n",
       "      <td>A143</td>\n",
       "      <td>A152</td>\n",
       "      <td>2</td>\n",
       "      <td>A173</td>\n",
       "      <td>1</td>\n",
       "      <td>A192</td>\n",
       "      <td>A201</td>\n",
       "      <td>0.0</td>\n",
       "      <td>0</td>\n",
       "    </tr>\n",
       "    <tr>\n",
       "      <th>1</th>\n",
       "      <td>A12</td>\n",
       "      <td>A32</td>\n",
       "      <td>5951</td>\n",
       "      <td>A61</td>\n",
       "      <td>A73</td>\n",
       "      <td>A101</td>\n",
       "      <td>2</td>\n",
       "      <td>A121</td>\n",
       "      <td>22</td>\n",
       "      <td>A143</td>\n",
       "      <td>A152</td>\n",
       "      <td>1</td>\n",
       "      <td>A173</td>\n",
       "      <td>1</td>\n",
       "      <td>A191</td>\n",
       "      <td>A201</td>\n",
       "      <td>1.0</td>\n",
       "      <td>1</td>\n",
       "    </tr>\n",
       "    <tr>\n",
       "      <th>2</th>\n",
       "      <td>A14</td>\n",
       "      <td>A34</td>\n",
       "      <td>2096</td>\n",
       "      <td>A61</td>\n",
       "      <td>A74</td>\n",
       "      <td>A101</td>\n",
       "      <td>3</td>\n",
       "      <td>A121</td>\n",
       "      <td>49</td>\n",
       "      <td>A143</td>\n",
       "      <td>A152</td>\n",
       "      <td>1</td>\n",
       "      <td>A172</td>\n",
       "      <td>2</td>\n",
       "      <td>A191</td>\n",
       "      <td>A201</td>\n",
       "      <td>0.0</td>\n",
       "      <td>0</td>\n",
       "    </tr>\n",
       "    <tr>\n",
       "      <th>3</th>\n",
       "      <td>A11</td>\n",
       "      <td>A32</td>\n",
       "      <td>7882</td>\n",
       "      <td>A61</td>\n",
       "      <td>A74</td>\n",
       "      <td>A103</td>\n",
       "      <td>4</td>\n",
       "      <td>A122</td>\n",
       "      <td>45</td>\n",
       "      <td>A143</td>\n",
       "      <td>A153</td>\n",
       "      <td>1</td>\n",
       "      <td>A173</td>\n",
       "      <td>2</td>\n",
       "      <td>A191</td>\n",
       "      <td>A201</td>\n",
       "      <td>0.0</td>\n",
       "      <td>0</td>\n",
       "    </tr>\n",
       "    <tr>\n",
       "      <th>4</th>\n",
       "      <td>A11</td>\n",
       "      <td>A33</td>\n",
       "      <td>4870</td>\n",
       "      <td>A61</td>\n",
       "      <td>A73</td>\n",
       "      <td>A101</td>\n",
       "      <td>4</td>\n",
       "      <td>A124</td>\n",
       "      <td>53</td>\n",
       "      <td>A143</td>\n",
       "      <td>A153</td>\n",
       "      <td>2</td>\n",
       "      <td>A173</td>\n",
       "      <td>2</td>\n",
       "      <td>A191</td>\n",
       "      <td>A201</td>\n",
       "      <td>1.0</td>\n",
       "      <td>0</td>\n",
       "    </tr>\n",
       "  </tbody>\n",
       "</table>\n",
       "</div>"
      ],
      "text/plain": [
       "  checking_status credit_history  credit_amount savings employment  \\\n",
       "0             A11            A34           1169     A65        A75   \n",
       "1             A12            A32           5951     A61        A73   \n",
       "2             A14            A34           2096     A61        A74   \n",
       "3             A11            A32           7882     A61        A74   \n",
       "4             A11            A33           4870     A61        A73   \n",
       "\n",
       "  other_parties  residence_since property_magnitude  age other_payment_plans  \\\n",
       "0          A101                4               A121   67                A143   \n",
       "1          A101                2               A121   22                A143   \n",
       "2          A101                3               A121   49                A143   \n",
       "3          A103                4               A122   45                A143   \n",
       "4          A101                4               A124   53                A143   \n",
       "\n",
       "  housing  existing_credits   job  num_dependents telephone foreign_worker  \\\n",
       "0    A152                 2  A173               1      A192           A201   \n",
       "1    A152                 1  A173               1      A191           A201   \n",
       "2    A152                 1  A172               2      A191           A201   \n",
       "3    A153                 1  A173               2      A191           A201   \n",
       "4    A153                 2  A173               2      A191           A201   \n",
       "\n",
       "   class  Gender  \n",
       "0    0.0       0  \n",
       "1    1.0       1  \n",
       "2    0.0       0  \n",
       "3    0.0       0  \n",
       "4    1.0       0  "
      ]
     },
     "execution_count": 3,
     "metadata": {},
     "output_type": "execute_result"
    }
   ],
   "source": [
    "df.head()"
   ]
  },
  {
   "cell_type": "code",
   "execution_count": 4,
   "metadata": {
    "execution": {
     "iopub.execute_input": "2024-08-22T20:39:10.600093Z",
     "iopub.status.busy": "2024-08-22T20:39:10.599832Z",
     "iopub.status.idle": "2024-08-22T20:39:10.650101Z",
     "shell.execute_reply": "2024-08-22T20:39:10.648975Z",
     "shell.execute_reply.started": "2024-08-22T20:39:10.600069Z"
    }
   },
   "outputs": [],
   "source": [
    "# One-hot encode categorical features\n",
    "categorical_features = df.select_dtypes(include=['category', 'object']).columns.tolist()\n",
    "for feature in categorical_features:\n",
    "    onehot = pd.get_dummies(df[feature], prefix=feature)\n",
    "    df = df.drop(feature, axis=1)\n",
    "    df = df.join(onehot)\n",
    "\n",
    "# Separate features and target\n",
    "X = df.drop(y_label, axis=1)\n",
    "y = df[y_label]\n",
    "\n",
    "# Balance the dataset if it's imbalanced\n",
    "if y.value_counts().min() < y.value_counts().max() / 2:\n",
    "    df_majority = df[df[y_label] == y.value_counts().idxmax()]\n",
    "    df_minority = df[df[y_label] == y.value_counts().idxmin()]\n",
    "    \n",
    "    df_minority_upsampled = resample(df_minority,\n",
    "                                     replace=True,\n",
    "                                     n_samples=len(df_majority),\n",
    "                                     random_state=42)\n",
    "    \n",
    "    df_upsampled = pd.concat([df_majority, df_minority_upsampled])\n",
    "    \n",
    "    X = df_upsampled.drop(y_label, axis=1)\n",
    "    y = df_upsampled[y_label]"
   ]
  },
  {
   "cell_type": "code",
   "execution_count": 5,
   "metadata": {
    "execution": {
     "iopub.execute_input": "2024-08-22T20:39:10.652382Z",
     "iopub.status.busy": "2024-08-22T20:39:10.651843Z",
     "iopub.status.idle": "2024-08-22T20:39:59.044699Z",
     "shell.execute_reply": "2024-08-22T20:39:59.041343Z",
     "shell.execute_reply.started": "2024-08-22T20:39:10.652334Z"
    }
   },
   "outputs": [],
   "source": [
    "# Split the data\n",
    "X_train, X_test, y_train, y_test = train_test_split(X, y, test_size=0.2, random_state=0)\n",
    "\n",
    "# Scale the features\n",
    "scaler = StandardScaler()\n",
    "X_train_scaled = scaler.fit_transform(X_train)\n",
    "X_test_scaled = scaler.transform(X_test)\n",
    "\n",
    "# Define parameter grid for GridSearchCV\n",
    "param_grid = {\n",
    "    'solver': ['liblinear', 'lbfgs'],\n",
    "    'C': [0.1, 1, 10, 100],\n",
    "    'max_iter': [100, 200, 300],\n",
    "    'class_weight': ['balanced', None]\n",
    "}\n",
    "\n",
    "# Perform GridSearchCV\n",
    "grid_search = GridSearchCV(LogisticRegression(), param_grid, cv=5, scoring='f1')\n",
    "grid_search.fit(X_train_scaled, y_train)\n",
    "\n",
    "# Get the best model\n",
    "model = grid_search.best_estimator_"
   ]
  },
  {
   "cell_type": "code",
   "execution_count": 6,
   "metadata": {
    "execution": {
     "iopub.execute_input": "2024-08-22T20:39:59.048745Z",
     "iopub.status.busy": "2024-08-22T20:39:59.047888Z",
     "iopub.status.idle": "2024-08-22T20:39:59.145782Z",
     "shell.execute_reply": "2024-08-22T20:39:59.143361Z",
     "shell.execute_reply.started": "2024-08-22T20:39:59.048671Z"
    }
   },
   "outputs": [
    {
     "name": "stdout",
     "output_type": "stream",
     "text": [
      "Model performance:\n",
      "Accuracy: 0.69643, Precision: 0.67361, F1 Score: 0.69534, Recall: 0.71852\n"
     ]
    }
   ],
   "source": [
    "# Evaluate the model\n",
    "print(\"Model performance:\")\n",
    "y_pred = model.predict(X_test_scaled)\n",
    "print(f\"Accuracy: {accuracy_score(y_test, y_pred):.5f}\", end=\", \")\n",
    "print(f\"Precision: {precision_score(y_test, y_pred):.5f}\", end=\", \")\n",
    "print(f\"F1 Score: {f1_score(y_test, y_pred):.5f}\", end=\", \")\n",
    "print(f\"Recall: {recall_score(y_test, y_pred):.5f}\")\n"
   ]
  },
  {
   "cell_type": "code",
   "execution_count": 7,
   "metadata": {
    "execution": {
     "iopub.execute_input": "2024-08-22T20:39:59.241311Z",
     "iopub.status.busy": "2024-08-22T20:39:59.240496Z",
     "iopub.status.idle": "2024-08-22T20:39:59.298796Z",
     "shell.execute_reply": "2024-08-22T20:39:59.297236Z",
     "shell.execute_reply.started": "2024-08-22T20:39:59.241240Z"
    }
   },
   "outputs": [
    {
     "name": "stdout",
     "output_type": "stream",
     "text": [
      "Demographic Parity Difference: 0.19181\n"
     ]
    }
   ],
   "source": [
    "# Import necessary method from fairlearn\n",
    "from fairlearn.metrics import demographic_parity_difference\n",
    "\n",
    "sensitive_features_test = X_test['Gender'].values\n",
    "\n",
    "# Calculate Demographic Parity Difference using fairlearn\n",
    "dpd = demographic_parity_difference(y_true=y_test, \n",
    "                                    y_pred=y_pred, \n",
    "                                    sensitive_features=sensitive_features_test)\n",
    "\n",
    "# Print the Demographic Parity Difference\n",
    "print(f\"Demographic Parity Difference: {dpd:.5f}\")"
   ]
  },
  {
   "cell_type": "code",
   "execution_count": null,
   "id": "e7f1ca76",
   "metadata": {},
   "outputs": [],
   "source": [
    "# Import necessary libraries and methods for mitigation\n",
    "from fairlearn.postprocessing import ThresholdOptimizer\n",
    "from sklearn.metrics import accuracy_score, precision_score, recall_score, f1_score\n",
    "\n",
    "# Initialize the ThresholdOptimizer with the trained model and specify the constraint\n",
    "threshold_optimizer = ThresholdOptimizer(\n",
    "    estimator=model,\n",
    "    constraints='demographic_parity',\n",
    "    objective='balanced_accuracy_score',\n",
    "    prefit=True\n",
    ")\n",
    "\n",
    "# Fit the ThresholdOptimizer on the training data\n",
    "# Note: The sensitive feature should be a part of the training data\n",
    "sensitive_features_train = X_train['Gender'].values\n",
    "threshold_optimizer.fit(X_train_scaled, y_train, sensitive_features=sensitive_features_train)\n",
    "\n",
    "# Use the fitted ThresholdOptimizer to make predictions on the test data\n",
    "y_pred_mitigated = threshold_optimizer.predict(X_test_scaled, sensitive_features=sensitive_features_test)\n",
    "\n",
    "# Evaluate the performance of the model after mitigation\n",
    "print(\"Model performance after mitigation:\")\n",
    "print(f\"Accuracy: {accuracy_score(y_test, y_pred_mitigated):.5f}\", end=\", \")\n",
    "print(f\"Precision: {precision_score(y_test, y_pred_mitigated):.5f}\", end=\", \")\n",
    "print(f\"F1 Score: {f1_score(y_test, y_pred_mitigated):.5f}\", end=\", \")\n",
    "print(f\"Recall: {recall_score(y_test, y_pred_mitigated):.5f}\")\n",
    "\n",
    "# Calculate and print the Demographic Parity Difference after mitigation\n",
    "dpd_mitigated = demographic_parity_difference(y_true=y_test, \n",
    "                                              y_pred=y_pred_mitigated, \n",
    "                                              sensitive_features=sensitive_features_test)\n",
    "print(f\"Demographic Parity Difference after mitigation: {dpd_mitigated:.5f}\")"
   ]
  }
 ],
 "metadata": {
  "kernelspec": {
   "display_name": "Python3",
   "language": "python",
   "name": "python3"
  },
  "language_info": {
   "codemirror_mode": {
    "name": "ipython",
    "version": 3
   },
   "file_extension": ".py",
   "mimetype": "text/x-python",
   "name": "python",
   "nbconvert_exporter": "python",
   "pygments_lexer": "ipython3",
   "version": "3.11.5"
  },
  "path": "files/model-generator/credit/"
 },
 "nbformat": 4,
 "nbformat_minor": 4
}
