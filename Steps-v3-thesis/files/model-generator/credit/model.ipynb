{
 "cells": [
  {
   "cell_type": "code",
   "execution_count": 1,
   "metadata": {
    "execution": {
     "iopub.execute_input": "2024-08-22T13:03:37.547913Z",
     "iopub.status.busy": "2024-08-22T13:03:37.547657Z",
     "iopub.status.idle": "2024-08-22T13:03:38.425375Z",
     "shell.execute_reply": "2024-08-22T13:03:38.424456Z"
    }
   },
   "outputs": [],
   "source": [
    "import pandas as pd\n",
    "from sklearn.model_selection import train_test_split, GridSearchCV\n",
    "from sklearn.metrics import accuracy_score, precision_score, recall_score, f1_score\n",
    "from sklearn.linear_model import LogisticRegression\n",
    "from sklearn.preprocessing import StandardScaler\n",
    "from sklearn.utils import resample\n",
    "import warnings\n",
    "from sklearn.exceptions import ConvergenceWarning\n",
    "\n",
    "# Filter out ConvergenceWarning\n",
    "warnings.filterwarnings(\"ignore\", category=ConvergenceWarning)\n",
    "warnings.filterwarnings(\"ignore\", category=FutureWarning)"
   ]
  },
  {
   "cell_type": "code",
   "execution_count": 2,
   "metadata": {
    "execution": {
     "iopub.execute_input": "2024-08-22T13:03:38.430045Z",
     "iopub.status.busy": "2024-08-22T13:03:38.429611Z",
     "iopub.status.idle": "2024-08-22T13:03:38.439836Z",
     "shell.execute_reply": "2024-08-22T13:03:38.439042Z"
    }
   },
   "outputs": [],
   "source": [
    "# Set up parameters\n",
    "dataset_name = \"credit\"\n",
    "y_label = \"class\"\n",
    "csv_file_path = f\"{dataset_name}.csv\"\n",
    "\n",
    "# Load the CSV file as a DataFrame, ignoring the first column\n",
    "df = pd.read_csv(csv_file_path, index_col=0)\n"
   ]
  },
  {
   "cell_type": "code",
   "execution_count": 3,
   "metadata": {
    "execution": {
     "iopub.execute_input": "2024-08-22T13:03:38.443768Z",
     "iopub.status.busy": "2024-08-22T13:03:38.443480Z",
     "iopub.status.idle": "2024-08-22T13:03:38.462372Z",
     "shell.execute_reply": "2024-08-22T13:03:38.461771Z"
    }
   },
   "outputs": [
    {
     "data": {
      "text/html": [
       "<div>\n",
       "<style scoped>\n",
       "    .dataframe tbody tr th:only-of-type {\n",
       "        vertical-align: middle;\n",
       "    }\n",
       "\n",
       "    .dataframe tbody tr th {\n",
       "        vertical-align: top;\n",
       "    }\n",
       "\n",
       "    .dataframe thead th {\n",
       "        text-align: right;\n",
       "    }\n",
       "</style>\n",
       "<table border=\"1\" class=\"dataframe\">\n",
       "  <thead>\n",
       "    <tr style=\"text-align: right;\">\n",
       "      <th></th>\n",
       "      <th>checking_status</th>\n",
       "      <th>credit_history</th>\n",
       "      <th>credit_amount</th>\n",
       "      <th>savings</th>\n",
       "      <th>employment</th>\n",
       "      <th>other_parties</th>\n",
       "      <th>residence_since</th>\n",
       "      <th>property_magnitude</th>\n",
       "      <th>age</th>\n",
       "      <th>other_payment_plans</th>\n",
       "      <th>housing</th>\n",
       "      <th>existing_credits</th>\n",
       "      <th>job</th>\n",
       "      <th>num_dependents</th>\n",
       "      <th>telephone</th>\n",
       "      <th>foreign_worker</th>\n",
       "      <th>class</th>\n",
       "      <th>Gender</th>\n",
       "    </tr>\n",
       "  </thead>\n",
       "  <tbody>\n",
       "    <tr>\n",
       "      <th>0</th>\n",
       "      <td>A11</td>\n",
       "      <td>A34</td>\n",
       "      <td>1169</td>\n",
       "      <td>A65</td>\n",
       "      <td>A75</td>\n",
       "      <td>A101</td>\n",
       "      <td>4</td>\n",
       "      <td>A121</td>\n",
       "      <td>67</td>\n",
       "      <td>A143</td>\n",
       "      <td>A152</td>\n",
       "      <td>2</td>\n",
       "      <td>A173</td>\n",
       "      <td>1</td>\n",
       "      <td>A192</td>\n",
       "      <td>A201</td>\n",
       "      <td>0.0</td>\n",
       "      <td>0</td>\n",
       "    </tr>\n",
       "    <tr>\n",
       "      <th>1</th>\n",
       "      <td>A12</td>\n",
       "      <td>A32</td>\n",
       "      <td>5951</td>\n",
       "      <td>A61</td>\n",
       "      <td>A73</td>\n",
       "      <td>A101</td>\n",
       "      <td>2</td>\n",
       "      <td>A121</td>\n",
       "      <td>22</td>\n",
       "      <td>A143</td>\n",
       "      <td>A152</td>\n",
       "      <td>1</td>\n",
       "      <td>A173</td>\n",
       "      <td>1</td>\n",
       "      <td>A191</td>\n",
       "      <td>A201</td>\n",
       "      <td>1.0</td>\n",
       "      <td>1</td>\n",
       "    </tr>\n",
       "    <tr>\n",
       "      <th>2</th>\n",
       "      <td>A14</td>\n",
       "      <td>A34</td>\n",
       "      <td>2096</td>\n",
       "      <td>A61</td>\n",
       "      <td>A74</td>\n",
       "      <td>A101</td>\n",
       "      <td>3</td>\n",
       "      <td>A121</td>\n",
       "      <td>49</td>\n",
       "      <td>A143</td>\n",
       "      <td>A152</td>\n",
       "      <td>1</td>\n",
       "      <td>A172</td>\n",
       "      <td>2</td>\n",
       "      <td>A191</td>\n",
       "      <td>A201</td>\n",
       "      <td>0.0</td>\n",
       "      <td>0</td>\n",
       "    </tr>\n",
       "    <tr>\n",
       "      <th>3</th>\n",
       "      <td>A11</td>\n",
       "      <td>A32</td>\n",
       "      <td>7882</td>\n",
       "      <td>A61</td>\n",
       "      <td>A74</td>\n",
       "      <td>A103</td>\n",
       "      <td>4</td>\n",
       "      <td>A122</td>\n",
       "      <td>45</td>\n",
       "      <td>A143</td>\n",
       "      <td>A153</td>\n",
       "      <td>1</td>\n",
       "      <td>A173</td>\n",
       "      <td>2</td>\n",
       "      <td>A191</td>\n",
       "      <td>A201</td>\n",
       "      <td>0.0</td>\n",
       "      <td>0</td>\n",
       "    </tr>\n",
       "    <tr>\n",
       "      <th>4</th>\n",
       "      <td>A11</td>\n",
       "      <td>A33</td>\n",
       "      <td>4870</td>\n",
       "      <td>A61</td>\n",
       "      <td>A73</td>\n",
       "      <td>A101</td>\n",
       "      <td>4</td>\n",
       "      <td>A124</td>\n",
       "      <td>53</td>\n",
       "      <td>A143</td>\n",
       "      <td>A153</td>\n",
       "      <td>2</td>\n",
       "      <td>A173</td>\n",
       "      <td>2</td>\n",
       "      <td>A191</td>\n",
       "      <td>A201</td>\n",
       "      <td>1.0</td>\n",
       "      <td>0</td>\n",
       "    </tr>\n",
       "  </tbody>\n",
       "</table>\n",
       "</div>"
      ],
      "text/plain": [
       "  checking_status credit_history  credit_amount savings employment  \\\n",
       "0             A11            A34           1169     A65        A75   \n",
       "1             A12            A32           5951     A61        A73   \n",
       "2             A14            A34           2096     A61        A74   \n",
       "3             A11            A32           7882     A61        A74   \n",
       "4             A11            A33           4870     A61        A73   \n",
       "\n",
       "  other_parties  residence_since property_magnitude  age other_payment_plans  \\\n",
       "0          A101                4               A121   67                A143   \n",
       "1          A101                2               A121   22                A143   \n",
       "2          A101                3               A121   49                A143   \n",
       "3          A103                4               A122   45                A143   \n",
       "4          A101                4               A124   53                A143   \n",
       "\n",
       "  housing  existing_credits   job  num_dependents telephone foreign_worker  \\\n",
       "0    A152                 2  A173               1      A192           A201   \n",
       "1    A152                 1  A173               1      A191           A201   \n",
       "2    A152                 1  A172               2      A191           A201   \n",
       "3    A153                 1  A173               2      A191           A201   \n",
       "4    A153                 2  A173               2      A191           A201   \n",
       "\n",
       "   class  Gender  \n",
       "0    0.0       0  \n",
       "1    1.0       1  \n",
       "2    0.0       0  \n",
       "3    0.0       0  \n",
       "4    1.0       0  "
      ]
     },
     "execution_count": 3,
     "metadata": {},
     "output_type": "execute_result"
    }
   ],
   "source": [
    "df.head()"
   ]
  },
  {
   "cell_type": "code",
   "execution_count": 4,
   "metadata": {
    "execution": {
     "iopub.execute_input": "2024-08-22T13:03:38.466522Z",
     "iopub.status.busy": "2024-08-22T13:03:38.466126Z",
     "iopub.status.idle": "2024-08-22T13:03:38.501244Z",
     "shell.execute_reply": "2024-08-22T13:03:38.500273Z"
    }
   },
   "outputs": [],
   "source": [
    "# One-hot encode categorical features\n",
    "categorical_features = df.select_dtypes(include=['category', 'object']).columns.tolist()\n",
    "for feature in categorical_features:\n",
    "    onehot = pd.get_dummies(df[feature], prefix=feature)\n",
    "    df = df.drop(feature, axis=1)\n",
    "    df = df.join(onehot)\n",
    "\n",
    "# Separate features and target\n",
    "X = df.drop(y_label, axis=1)\n",
    "y = df[y_label]\n",
    "\n",
    "# Balance the dataset if it's imbalanced\n",
    "if y.value_counts().min() < y.value_counts().max() / 2:\n",
    "    df_majority = df[df[y_label] == y.value_counts().idxmax()]\n",
    "    df_minority = df[df[y_label] == y.value_counts().idxmin()]\n",
    "    \n",
    "    df_minority_upsampled = resample(df_minority,\n",
    "                                     replace=True,\n",
    "                                     n_samples=len(df_majority),\n",
    "                                     random_state=42)\n",
    "    \n",
    "    df_upsampled = pd.concat([df_majority, df_minority_upsampled])\n",
    "    \n",
    "    X = df_upsampled.drop(y_label, axis=1)\n",
    "    y = df_upsampled[y_label]"
   ]
  },
  {
   "cell_type": "code",
   "execution_count": 5,
   "metadata": {
    "execution": {
     "iopub.execute_input": "2024-08-22T13:03:38.505813Z",
     "iopub.status.busy": "2024-08-22T13:03:38.505468Z",
     "iopub.status.idle": "2024-08-22T13:03:40.749622Z",
     "shell.execute_reply": "2024-08-22T13:03:40.748233Z"
    }
   },
   "outputs": [],
   "source": [
    "# Split the data\n",
    "X_train, X_test, y_train, y_test = train_test_split(X, y, test_size=0.2, random_state=0)\n",
    "\n",
    "# Scale the features\n",
    "scaler = StandardScaler()\n",
    "X_train_scaled = scaler.fit_transform(X_train)\n",
    "X_test_scaled = scaler.transform(X_test)\n",
    "\n",
    "# Define parameter grid for GridSearchCV\n",
    "param_grid = {\n",
    "    'solver': ['liblinear', 'lbfgs'],\n",
    "    'C': [0.1, 1, 10, 100],\n",
    "    'max_iter': [100, 200, 300],\n",
    "    'class_weight': ['balanced', None]\n",
    "}\n",
    "\n",
    "# Perform GridSearchCV\n",
    "grid_search = GridSearchCV(LogisticRegression(), param_grid, cv=5, scoring='f1')\n",
    "grid_search.fit(X_train_scaled, y_train)\n",
    "\n",
    "# Get the best model\n",
    "model = grid_search.best_estimator_"
   ]
  },
  {
   "cell_type": "code",
   "execution_count": 6,
   "metadata": {
    "execution": {
     "iopub.execute_input": "2024-08-22T13:03:40.754665Z",
     "iopub.status.busy": "2024-08-22T13:03:40.754367Z",
     "iopub.status.idle": "2024-08-22T13:03:40.771698Z",
     "shell.execute_reply": "2024-08-22T13:03:40.770862Z"
    }
   },
   "outputs": [
    {
     "name": "stdout",
     "output_type": "stream",
     "text": [
      "Model performance:\n",
      "Accuracy: 0.69643, Precision: 0.67361, F1 Score: 0.69534, Recall: 0.71852\n"
     ]
    }
   ],
   "source": [
    "# Evaluate the model\n",
    "print(\"Model performance:\")\n",
    "y_pred = model.predict(X_test_scaled)\n",
    "print(f\"Accuracy: {accuracy_score(y_test, y_pred):.5f}\", end=\", \")\n",
    "print(f\"Precision: {precision_score(y_test, y_pred):.5f}\", end=\", \")\n",
    "print(f\"F1 Score: {f1_score(y_test, y_pred):.5f}\", end=\", \")\n",
    "print(f\"Recall: {recall_score(y_test, y_pred):.5f}\")\n"
   ]
  },
  {
   "cell_type": "code",
   "execution_count": 7,
   "metadata": {
    "execution": {
     "iopub.execute_input": "2024-08-22T13:03:40.775162Z",
     "iopub.status.busy": "2024-08-22T13:03:40.774918Z",
     "iopub.status.idle": "2024-08-22T13:03:40.801925Z",
     "shell.execute_reply": "2024-08-22T13:03:40.800989Z"
    }
   },
   "outputs": [
    {
     "name": "stdout",
     "output_type": "stream",
     "text": [
      "Demographic Parity Difference:  0.19181286549707605\n"
     ]
    }
   ],
   "source": [
    "from fairlearn.metrics import demographic_parity_difference\n",
    "\n",
    "# Extract the sensitive attribute from the variable that contains the features of the test dataset\n",
    "sensitive_features = X_test[['Gender']]\n",
    "\n",
    "# Calculate the demographic parity difference\n",
    "dpd = demographic_parity_difference(y_test, y_pred, sensitive_features=sensitive_features, method='between_groups')\n",
    "\n",
    "print(\"Demographic Parity Difference: \", dpd)"
   ]
  },
  {
   "cell_type": "code",
   "execution_count": 8,
   "metadata": {
    "execution": {
     "iopub.execute_input": "2024-08-22T13:03:40.805377Z",
     "iopub.status.busy": "2024-08-22T13:03:40.805123Z",
     "iopub.status.idle": "2024-08-22T13:03:41.007816Z",
     "shell.execute_reply": "2024-08-22T13:03:41.007068Z"
    }
   },
   "outputs": [
    {
     "name": "stdout",
     "output_type": "stream",
     "text": [
      "Mitigated model performance: Accuracy; 0.68571, Precision: 0.67407, F1 Score: 0.67407, Recall: 0.67407\n",
      "Mitigated Demographic Parity Difference:  0.09181286549707596\n"
     ]
    }
   ],
   "source": [
    "from fairlearn.postprocessing import ThresholdOptimizer\n",
    "\n",
    "# Define the estimator and constraints\n",
    "estimator = LogisticRegression(solver='liblinear', class_weight='balanced', max_iter=100)\n",
    "\n",
    "# Define the ThresholdOptimizer mitigation method\n",
    "eg = ThresholdOptimizer(estimator=estimator, constraints='demographic_parity', objective='balanced_accuracy_score')\n",
    "\n",
    "# Fit the mitigated model\n",
    "eg.fit(X_train, y_train, sensitive_features=X_train['Gender'])\n",
    "\n",
    "# Predict using the mitigated model\n",
    "y_pred_mitigated = eg.predict(X_test, sensitive_features=X_test['Gender'])\n",
    "\n",
    "# Evaluate the mitigated model\n",
    "print(\"Mitigated model performance: \", end=\"\")\n",
    "print(f\"Accuracy; {accuracy_score(y_test, y_pred_mitigated):.5f}\", end=\", \")\n",
    "print(f\"Precision: {precision_score(y_test, y_pred_mitigated):.5f}\", end=\", \")\n",
    "print(f\"F1 Score: {f1_score(y_test, y_pred_mitigated):.5f}\", end=\", \")\n",
    "print(f\"Recall: {recall_score(y_test, y_pred_mitigated):.5f}\")\n",
    "\n",
    "# Calculate the demographic parity difference for the mitigated model\n",
    "dpd_mitigated = demographic_parity_difference(y_test, y_pred_mitigated, sensitive_features=X_test['Gender'], method='between_groups')\n",
    "\n",
    "# Print the demographic parity difference for the mitigated model\n",
    "print(\"Mitigated Demographic Parity Difference: \", dpd_mitigated)"
   ]
  }
 ],
 "metadata": {
  "kernelspec": {
   "display_name": "fairness",
   "language": "python",
   "name": "python3"
  },
  "language_info": {
   "codemirror_mode": {
    "name": "ipython",
    "version": 3
   },
   "file_extension": ".py",
   "mimetype": "text/x-python",
   "name": "python",
   "nbconvert_exporter": "python",
   "pygments_lexer": "ipython3",
   "version": "3.12.3"
  },
  "path": "files/model-generator/credit/"
 },
 "nbformat": 4,
 "nbformat_minor": 2
}
