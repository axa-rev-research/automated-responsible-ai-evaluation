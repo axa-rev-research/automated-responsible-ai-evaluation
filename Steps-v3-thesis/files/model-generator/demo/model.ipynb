{
 "cells": [
  {
   "cell_type": "code",
   "execution_count": 1,
   "metadata": {
    "execution": {
     "iopub.execute_input": "2024-08-22T13:15:16.591302Z",
     "iopub.status.busy": "2024-08-22T13:15:16.591040Z",
     "iopub.status.idle": "2024-08-22T13:15:17.527913Z",
     "shell.execute_reply": "2024-08-22T13:15:17.527170Z"
    }
   },
   "outputs": [],
   "source": [
    "import pandas as pd\n",
    "import warnings\n",
    "from sklearn.preprocessing import StandardScaler\n",
    "from sklearn.model_selection import train_test_split\n",
    "from sklearn.linear_model import LogisticRegression\n",
    "from sklearn.metrics import accuracy_score, precision_score, recall_score, f1_score\n",
    "from sklearn.exceptions import ConvergenceWarning\n",
    "\n",
    "warnings.filterwarnings(\"ignore\", category=ConvergenceWarning)\n",
    "warnings.filterwarnings(\"ignore\", category=FutureWarning)"
   ]
  },
  {
   "cell_type": "code",
   "execution_count": 2,
   "metadata": {
    "execution": {
     "iopub.execute_input": "2024-08-22T13:15:17.531966Z",
     "iopub.status.busy": "2024-08-22T13:15:17.531608Z",
     "iopub.status.idle": "2024-08-22T13:15:17.538892Z",
     "shell.execute_reply": "2024-08-22T13:15:17.538231Z"
    }
   },
   "outputs": [],
   "source": [
    "# Set up parameters\n",
    "dataset_name = \"demo\"\n",
    "y_label = \"Policy_Status\"\n",
    "csv_file_path = f\"{dataset_name}.csv\"\n",
    "\n",
    "# Load the CSV file as a DataFrame\n",
    "df = pd.read_csv(csv_file_path)\n"
   ]
  },
  {
   "cell_type": "code",
   "execution_count": 3,
   "metadata": {
    "execution": {
     "iopub.execute_input": "2024-08-22T13:15:17.542185Z",
     "iopub.status.busy": "2024-08-22T13:15:17.541950Z",
     "iopub.status.idle": "2024-08-22T13:15:17.554866Z",
     "shell.execute_reply": "2024-08-22T13:15:17.554198Z"
    }
   },
   "outputs": [
    {
     "data": {
      "text/html": [
       "<div>\n",
       "<style scoped>\n",
       "    .dataframe tbody tr th:only-of-type {\n",
       "        vertical-align: middle;\n",
       "    }\n",
       "\n",
       "    .dataframe tbody tr th {\n",
       "        vertical-align: top;\n",
       "    }\n",
       "\n",
       "    .dataframe thead th {\n",
       "        text-align: right;\n",
       "    }\n",
       "</style>\n",
       "<table border=\"1\" class=\"dataframe\">\n",
       "  <thead>\n",
       "    <tr style=\"text-align: right;\">\n",
       "      <th></th>\n",
       "      <th>Gender</th>\n",
       "      <th>Married</th>\n",
       "      <th>Dependents</th>\n",
       "      <th>Education</th>\n",
       "      <th>Self_Employed</th>\n",
       "      <th>ApplicantIncome</th>\n",
       "      <th>CoapplicantIncome</th>\n",
       "      <th>Insurance_History</th>\n",
       "      <th>Property_Area</th>\n",
       "      <th>Policy_Status</th>\n",
       "    </tr>\n",
       "  </thead>\n",
       "  <tbody>\n",
       "    <tr>\n",
       "      <th>0</th>\n",
       "      <td>Male</td>\n",
       "      <td>Yes</td>\n",
       "      <td>1</td>\n",
       "      <td>Graduate</td>\n",
       "      <td>No</td>\n",
       "      <td>4583</td>\n",
       "      <td>1508.0</td>\n",
       "      <td>1</td>\n",
       "      <td>Rural</td>\n",
       "      <td>0</td>\n",
       "    </tr>\n",
       "    <tr>\n",
       "      <th>1</th>\n",
       "      <td>Male</td>\n",
       "      <td>Yes</td>\n",
       "      <td>0</td>\n",
       "      <td>Graduate</td>\n",
       "      <td>Yes</td>\n",
       "      <td>3000</td>\n",
       "      <td>0.0</td>\n",
       "      <td>1</td>\n",
       "      <td>Urban</td>\n",
       "      <td>1</td>\n",
       "    </tr>\n",
       "    <tr>\n",
       "      <th>2</th>\n",
       "      <td>Male</td>\n",
       "      <td>Yes</td>\n",
       "      <td>0</td>\n",
       "      <td>Not Graduate</td>\n",
       "      <td>No</td>\n",
       "      <td>2583</td>\n",
       "      <td>2358.0</td>\n",
       "      <td>1</td>\n",
       "      <td>Urban</td>\n",
       "      <td>1</td>\n",
       "    </tr>\n",
       "    <tr>\n",
       "      <th>3</th>\n",
       "      <td>Male</td>\n",
       "      <td>No</td>\n",
       "      <td>0</td>\n",
       "      <td>Graduate</td>\n",
       "      <td>No</td>\n",
       "      <td>6000</td>\n",
       "      <td>0.0</td>\n",
       "      <td>1</td>\n",
       "      <td>Urban</td>\n",
       "      <td>1</td>\n",
       "    </tr>\n",
       "    <tr>\n",
       "      <th>4</th>\n",
       "      <td>Male</td>\n",
       "      <td>Yes</td>\n",
       "      <td>2</td>\n",
       "      <td>Graduate</td>\n",
       "      <td>Yes</td>\n",
       "      <td>5417</td>\n",
       "      <td>4196.0</td>\n",
       "      <td>1</td>\n",
       "      <td>Urban</td>\n",
       "      <td>1</td>\n",
       "    </tr>\n",
       "  </tbody>\n",
       "</table>\n",
       "</div>"
      ],
      "text/plain": [
       "  Gender Married Dependents     Education Self_Employed  ApplicantIncome  \\\n",
       "0   Male     Yes          1      Graduate            No             4583   \n",
       "1   Male     Yes          0      Graduate           Yes             3000   \n",
       "2   Male     Yes          0  Not Graduate            No             2583   \n",
       "3   Male      No          0      Graduate            No             6000   \n",
       "4   Male     Yes          2      Graduate           Yes             5417   \n",
       "\n",
       "   CoapplicantIncome  Insurance_History Property_Area  Policy_Status  \n",
       "0             1508.0                  1         Rural              0  \n",
       "1                0.0                  1         Urban              1  \n",
       "2             2358.0                  1         Urban              1  \n",
       "3                0.0                  1         Urban              1  \n",
       "4             4196.0                  1         Urban              1  "
      ]
     },
     "execution_count": 3,
     "metadata": {},
     "output_type": "execute_result"
    }
   ],
   "source": [
    "df.head()"
   ]
  },
  {
   "cell_type": "code",
   "execution_count": 4,
   "metadata": {
    "execution": {
     "iopub.execute_input": "2024-08-22T13:15:17.557920Z",
     "iopub.status.busy": "2024-08-22T13:15:17.557675Z",
     "iopub.status.idle": "2024-08-22T13:15:17.573239Z",
     "shell.execute_reply": "2024-08-22T13:15:17.572435Z"
    }
   },
   "outputs": [],
   "source": [
    "\n",
    "# Encode Male as 1, Female as 0\n",
    "df['Gender'] = df['Gender'].map({'Male': 1, 'Female': 0})\n",
    "\n",
    "# Replace the categorical values with the numeric equivalents\n",
    "categoricalFeatures = ['Property_Area', 'Married', 'Dependents', 'Education', 'Self_Employed']\n",
    "\n",
    "# Iterate through the list of categorical features and one hot encode them.\n",
    "for feature in categoricalFeatures:\n",
    "    onehot = pd.get_dummies(df[feature], prefix=feature)\n",
    "    df = df.drop(feature, axis=1)\n",
    "    df = df.join(onehot)\n",
    "    \n",
    "X = df.drop(columns=[y_label])\n",
    "y = df[y_label].values"
   ]
  },
  {
   "cell_type": "code",
   "execution_count": 5,
   "metadata": {
    "execution": {
     "iopub.execute_input": "2024-08-22T13:15:17.576513Z",
     "iopub.status.busy": "2024-08-22T13:15:17.576275Z",
     "iopub.status.idle": "2024-08-22T13:15:17.585692Z",
     "shell.execute_reply": "2024-08-22T13:15:17.584834Z"
    }
   },
   "outputs": [],
   "source": [
    "scaler = StandardScaler()\n",
    "data_std = scaler.fit_transform(X)\n",
    "x_train,x_test,y_train,y_test = train_test_split(X, y, test_size=0.2, random_state = 0)"
   ]
  },
  {
   "cell_type": "code",
   "execution_count": 6,
   "metadata": {
    "execution": {
     "iopub.execute_input": "2024-08-22T13:15:17.588767Z",
     "iopub.status.busy": "2024-08-22T13:15:17.588518Z",
     "iopub.status.idle": "2024-08-22T13:15:17.597565Z",
     "shell.execute_reply": "2024-08-22T13:15:17.596605Z"
    }
   },
   "outputs": [],
   "source": [
    "# Liblinear is a solver that is very fast for small datasets, like ours\n",
    "model = LogisticRegression(solver='liblinear', class_weight='balanced', max_iter=100)\n",
    "\n",
    "# Fit the model to the training data\n",
    "model.fit(x_train, y_train)\n",
    "\n",
    "y_pred = model.predict(x_test)"
   ]
  },
  {
   "cell_type": "code",
   "execution_count": 7,
   "metadata": {
    "execution": {
     "iopub.execute_input": "2024-08-22T13:15:17.600974Z",
     "iopub.status.busy": "2024-08-22T13:15:17.600644Z",
     "iopub.status.idle": "2024-08-22T13:15:17.611084Z",
     "shell.execute_reply": "2024-08-22T13:15:17.610392Z"
    }
   },
   "outputs": [
    {
     "name": "stdout",
     "output_type": "stream",
     "text": [
      "Test performance: Accuracy; 0.69792, Precision: 0.73529, F1 Score: 0.77519, Recall: 0.81967\n"
     ]
    }
   ],
   "source": [
    "# Evaluate the model\n",
    "print(\"Test performance: \", end=\"\")\n",
    "print(f\"Accuracy; {accuracy_score(y_test, y_pred):.5f}\", end=\", \")\n",
    "print(f\"Precision: {precision_score(y_test, y_pred):.5f}\", end=\", \")\n",
    "print(f\"F1 Score: {f1_score(y_test, y_pred):.5f}\", end=\", \")\n",
    "print(f\"Recall: {recall_score(y_test, y_pred):.5f}\")"
   ]
  },
  {
   "cell_type": "code",
   "execution_count": 8,
   "metadata": {
    "execution": {
     "iopub.execute_input": "2024-08-22T13:15:17.614050Z",
     "iopub.status.busy": "2024-08-22T13:15:17.613811Z",
     "iopub.status.idle": "2024-08-22T13:15:17.635510Z",
     "shell.execute_reply": "2024-08-22T13:15:17.634792Z"
    }
   },
   "outputs": [
    {
     "name": "stdout",
     "output_type": "stream",
     "text": [
      "Demographic Parity Difference:  0.28890543559195836\n"
     ]
    }
   ],
   "source": [
    "# Import necessary methods from the fairlearn library\n",
    "from fairlearn.metrics import demographic_parity_difference\n",
    "\n",
    "# Calculate the demographic parity difference\n",
    "dpd = demographic_parity_difference(y_test, y_pred, sensitive_features=x_test['Gender'], method='between_groups')\n",
    "\n",
    "# Print the demographic parity difference\n",
    "print(\"Demographic Parity Difference: \", dpd)"
   ]
  },
  {
   "cell_type": "code",
   "execution_count": 9,
   "metadata": {
    "execution": {
     "iopub.execute_input": "2024-08-22T13:15:17.638818Z",
     "iopub.status.busy": "2024-08-22T13:15:17.638558Z",
     "iopub.status.idle": "2024-08-22T13:15:17.945765Z",
     "shell.execute_reply": "2024-08-22T13:15:17.944767Z"
    }
   },
   "outputs": [
    {
     "name": "stdout",
     "output_type": "stream",
     "text": [
      "Test performance (mitigated): Accuracy: 0.71875, Precision: 0.72973, F1 Score: 0.80000, Recall: 0.88525\n",
      "Demographic Parity Difference (mitigated):  0.1355174981384959\n"
     ]
    }
   ],
   "source": [
    "from fairlearn.reductions import ExponentiatedGradient, DemographicParity\n",
    "\n",
    "# Define the fairness constraint (demographic parity)\n",
    "constraint = DemographicParity()\n",
    "\n",
    "# Define the mitigation method (Exponentiated Gradient)\n",
    "mitigator = ExponentiatedGradient(model, constraint, max_iter=1000)\n",
    "\n",
    "# Fit the mitigated model to the training data\n",
    "mitigator.fit(x_train, y_train, sensitive_features = x_train[\"Gender\"])\n",
    "\n",
    "# Predict on the test set using the mitigated model\n",
    "y_pred_mitigated = mitigator.predict(x_test)\n",
    "\n",
    "# Evaluate the mitigated model\n",
    "print(\"Test performance (mitigated): \", end=\"\")\n",
    "print(f\"Accuracy: {accuracy_score(y_test, y_pred_mitigated):.5f}\", end=\", \")\n",
    "print(f\"Precision: {precision_score(y_test, y_pred_mitigated):.5f}\", end=\", \")\n",
    "print(f\"F1 Score: {f1_score(y_test, y_pred_mitigated):.5f}\", end=\", \")\n",
    "print(f\"Recall: {recall_score(y_test, y_pred_mitigated):.5f}\")\n",
    "\n",
    "# Calculate the demographic parity difference for the mitigated model\n",
    "dpd_mitigated = demographic_parity_difference(y_test, y_pred_mitigated, sensitive_features = x_test[['Gender']], method='between_groups')\n",
    "\n",
    "print(\"Demographic Parity Difference (mitigated): \", dpd_mitigated)"
   ]
  }
 ],
 "metadata": {
  "kernelspec": {
   "display_name": "fairness",
   "language": "python",
   "name": "python3"
  },
  "language_info": {
   "codemirror_mode": {
    "name": "ipython",
    "version": 3
   },
   "file_extension": ".py",
   "mimetype": "text/x-python",
   "name": "python",
   "nbconvert_exporter": "python",
   "pygments_lexer": "ipython3",
   "version": "3.12.3"
  },
  "path": "files/model-generator/demo/"
 },
 "nbformat": 4,
 "nbformat_minor": 2
}
