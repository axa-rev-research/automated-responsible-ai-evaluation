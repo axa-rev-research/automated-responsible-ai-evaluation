{
 "cells": [
  {
   "cell_type": "code",
   "execution_count": 1,
   "metadata": {
    "execution": {
     "iopub.execute_input": "2024-08-22T12:48:05.200423Z",
     "iopub.status.busy": "2024-08-22T12:48:05.200177Z",
     "iopub.status.idle": "2024-08-22T12:48:06.064785Z",
     "shell.execute_reply": "2024-08-22T12:48:06.063682Z"
    }
   },
   "outputs": [],
   "source": [
    "import pandas as pd\n",
    "import warnings\n",
    "from sklearn.model_selection import train_test_split\n",
    "from sklearn.metrics import accuracy_score, precision_score, recall_score, f1_score\n",
    "from sklearn.linear_model import LogisticRegression\n",
    "from sklearn.exceptions import ConvergenceWarning\n",
    "\n",
    "# Filter out the ConvergenceWarning\n",
    "warnings.filterwarnings(\"ignore\", category=ConvergenceWarning)"
   ]
  },
  {
   "cell_type": "code",
   "execution_count": 2,
   "metadata": {
    "execution": {
     "iopub.execute_input": "2024-08-22T12:48:06.070142Z",
     "iopub.status.busy": "2024-08-22T12:48:06.069693Z",
     "iopub.status.idle": "2024-08-22T12:48:06.134499Z",
     "shell.execute_reply": "2024-08-22T12:48:06.133824Z"
    }
   },
   "outputs": [],
   "source": [
    "# Configuration\n",
    "dataset_name = \"ausprivauto0405\"\n",
    "target_column = \"ClaimNb\"\n",
    "file_path = f\"{dataset_name}.csv\"\n",
    "test_size = 0.2\n",
    "random_state = 42\n",
    "\n",
    "# Load the data\n",
    "df = pd.read_csv(file_path, index_col=0)"
   ]
  },
  {
   "cell_type": "code",
   "execution_count": 3,
   "metadata": {
    "execution": {
     "iopub.execute_input": "2024-08-22T12:48:06.138699Z",
     "iopub.status.busy": "2024-08-22T12:48:06.138407Z",
     "iopub.status.idle": "2024-08-22T12:48:06.172236Z",
     "shell.execute_reply": "2024-08-22T12:48:06.170955Z"
    }
   },
   "outputs": [],
   "source": [
    "# Convert categorical columns to one-hot encoding\n",
    "categorical_features = df.select_dtypes(include=['category', 'object']).columns.tolist()\n",
    "\n",
    "for feature in categorical_features:\n",
    "    onehot = pd.get_dummies(df[feature], prefix=feature)\n",
    "    df = df.drop(feature, axis=1)\n",
    "    df = df.join(onehot)\n"
   ]
  },
  {
   "cell_type": "code",
   "execution_count": 4,
   "metadata": {
    "execution": {
     "iopub.execute_input": "2024-08-22T12:48:06.176376Z",
     "iopub.status.busy": "2024-08-22T12:48:06.176109Z",
     "iopub.status.idle": "2024-08-22T12:48:06.503714Z",
     "shell.execute_reply": "2024-08-22T12:48:06.502595Z"
    }
   },
   "outputs": [
    {
     "name": "stdout",
     "output_type": "stream",
     "text": [
      "Initial model performance:\n",
      "Accuracy: 0.60662\n",
      "Precision: 0.09745\n",
      "F1 Score: 0.16799\n",
      "Recall: 0.60835\n"
     ]
    }
   ],
   "source": [
    "# Prepare features and target\n",
    "X = df.drop(target_column, axis=1)\n",
    "y = df[target_column]\n",
    "\n",
    "# Split the data\n",
    "x_train, x_test, y_train, y_test = train_test_split(X, y, test_size=test_size, random_state=random_state)\n",
    "\n",
    "# Train initial model\n",
    "model = LogisticRegression(solver='liblinear', class_weight='balanced', max_iter=100)\n",
    "model.fit(x_train, y_train)\n",
    "\n",
    "# Make predictions\n",
    "y_pred = model.predict(x_test)\n",
    "\n",
    "# Evaluate initial model\n",
    "print(\"Initial model performance:\")\n",
    "print(f\"Accuracy: {accuracy_score(y_test, y_pred):.5f}\")\n",
    "print(f\"Precision: {precision_score(y_test, y_pred):.5f}\")\n",
    "print(f\"F1 Score: {f1_score(y_test, y_pred):.5f}\")\n",
    "print(f\"Recall: {recall_score(y_test, y_pred):.5f}\")"
   ]
  },
  {
   "cell_type": "code",
   "execution_count": 5,
   "metadata": {
    "execution": {
     "iopub.execute_input": "2024-08-22T12:48:06.508069Z",
     "iopub.status.busy": "2024-08-22T12:48:06.507684Z",
     "iopub.status.idle": "2024-08-22T12:48:06.645091Z",
     "shell.execute_reply": "2024-08-22T12:48:06.644169Z"
    }
   },
   "outputs": [
    {
     "name": "stdout",
     "output_type": "stream",
     "text": [
      "Equalized Odds Difference:  0.011526788382003716\n"
     ]
    }
   ],
   "source": [
    "from fairlearn.metrics import equalized_odds_difference\n",
    "\n",
    "# Extract the sensitive attribute from the variable that contains the features of the test dataset\n",
    "sensitive_features = x_test['Gender']\n",
    "\n",
    "# Calculate the equalized odds difference\n",
    "eo = equalized_odds_difference(y_test, y_pred, sensitive_features=sensitive_features)\n",
    "\n",
    "print(\"Equalized Odds Difference: \", eo)"
   ]
  },
  {
   "cell_type": "code",
   "execution_count": 6,
   "metadata": {
    "execution": {
     "iopub.execute_input": "2024-08-22T12:48:06.648875Z",
     "iopub.status.busy": "2024-08-22T12:48:06.648585Z",
     "iopub.status.idle": "2024-08-22T12:48:07.231933Z",
     "shell.execute_reply": "2024-08-22T12:48:07.230808Z"
    }
   },
   "outputs": [
    {
     "name": "stderr",
     "output_type": "stream",
     "text": [
      "/home/gunes/miniforge3/envs/fairness/lib/python3.12/site-packages/fairlearn/postprocessing/_threshold_optimizer.py:288: FutureWarning: 'predict_method' default value is changed from 'predict' to 'auto'. Explicitly pass `predict_method='predict' to replicate the old behavior, or pass `predict_method='auto' or other valid values to silence this warning.\n",
      "  warn(\n"
     ]
    },
    {
     "name": "stdout",
     "output_type": "stream",
     "text": [
      "Mitigated model performance: Accuracy: 0.60529, Precision: 0.09728, F1 Score: 0.16778, Recall: 0.60948\n",
      "Equalized Odds Difference:  0.00881676128173281\n"
     ]
    }
   ],
   "source": [
    "from fairlearn.postprocessing import ThresholdOptimizer\n",
    "\n",
    "# Create a copy of the existing model\n",
    "mitigated_model = ThresholdOptimizer(estimator=model, constraints='equalized_odds', objective='balanced_accuracy_score')\n",
    "\n",
    "# Fit the model to the data set and the sensitive feature\n",
    "mitigated_model.fit(x_train, y_train, sensitive_features=x_train['Gender'])\n",
    "\n",
    "# Predict on the test data using the mitigated model and sensitive feature\n",
    "y_pred_mitigated = mitigated_model.predict(x_test, sensitive_features = x_test[\"Gender\"])\n",
    "\n",
    "# Measure the performance metrics and fairness metric\n",
    "accuracy_mitigated = accuracy_score(y_test, y_pred_mitigated)\n",
    "precision_mitigated = precision_score(y_test, y_pred_mitigated)\n",
    "recall_mitigated = recall_score(y_test, y_pred_mitigated)\n",
    "f1_mitigated = f1_score(y_test, y_pred_mitigated)\n",
    "eo_mitigated = equalized_odds_difference(y_test, y_pred_mitigated, sensitive_features=x_test['Gender'])\n",
    "\n",
    "print(\"Mitigated model performance: \", end=\"\")\n",
    "print(f\"Accuracy: {accuracy_mitigated:.5f}\", end=\", \")\n",
    "print(f\"Precision: {precision_mitigated:.5f}\", end=\", \")\n",
    "print(f\"F1 Score: {f1_mitigated:.5f}\", end=\", \")\n",
    "print(f\"Recall: {recall_mitigated:.5f}\")\n",
    "print(\"Equalized Odds Difference: \", eo_mitigated)"
   ]
  }
 ],
 "metadata": {
  "kernelspec": {
   "display_name": "fairness",
   "language": "python",
   "name": "python3"
  },
  "language_info": {
   "codemirror_mode": {
    "name": "ipython",
    "version": 3
   },
   "file_extension": ".py",
   "mimetype": "text/x-python",
   "name": "python",
   "nbconvert_exporter": "python",
   "pygments_lexer": "ipython3",
   "version": "3.12.3"
  },
  "path": "files/model-generator/ausprivauto0405/"
 },
 "nbformat": 4,
 "nbformat_minor": 2
}
