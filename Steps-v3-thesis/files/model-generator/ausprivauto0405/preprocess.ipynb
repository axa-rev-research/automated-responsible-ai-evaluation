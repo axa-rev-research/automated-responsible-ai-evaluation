{
 "cells": [
  {
   "cell_type": "code",
   "execution_count": 2,
   "metadata": {},
   "outputs": [
    {
     "name": "stdout",
     "output_type": "stream",
     "text": [
      "Requirement already satisfied: pyreadr in /home/gunes/miniforge3/envs/fairness/lib/python3.12/site-packages (0.5.0)\n",
      "Requirement already satisfied: pandas>=1.2.0 in /home/gunes/miniforge3/envs/fairness/lib/python3.12/site-packages (from pyreadr) (2.2.2)\n",
      "Requirement already satisfied: numpy>=1.26.0 in /home/gunes/miniforge3/envs/fairness/lib/python3.12/site-packages (from pandas>=1.2.0->pyreadr) (1.26.4)\n",
      "Requirement already satisfied: python-dateutil>=2.8.2 in /home/gunes/miniforge3/envs/fairness/lib/python3.12/site-packages (from pandas>=1.2.0->pyreadr) (2.9.0)\n",
      "Requirement already satisfied: pytz>=2020.1 in /home/gunes/miniforge3/envs/fairness/lib/python3.12/site-packages (from pandas>=1.2.0->pyreadr) (2024.1)\n",
      "Requirement already satisfied: tzdata>=2022.7 in /home/gunes/miniforge3/envs/fairness/lib/python3.12/site-packages (from pandas>=1.2.0->pyreadr) (2024.1)\n",
      "Requirement already satisfied: six>=1.5 in /home/gunes/miniforge3/envs/fairness/lib/python3.12/site-packages (from python-dateutil>=2.8.2->pandas>=1.2.0->pyreadr) (1.16.0)\n"
     ]
    }
   ],
   "source": [
    "!pip install pyreadr"
   ]
  },
  {
   "cell_type": "code",
   "execution_count": null,
   "metadata": {},
   "outputs": [],
   "source": [
    "import pyreadr"
   ]
  },
  {
   "cell_type": "markdown",
   "metadata": {},
   "source": [
    "## Helper functions"
   ]
  },
  {
   "cell_type": "code",
   "execution_count": 3,
   "metadata": {},
   "outputs": [],
   "source": [
    "def drop_features(drop_features):\n",
    "    df_final = df.drop(drop_features, axis=1)\n",
    "    return df_final"
   ]
  },
  {
   "cell_type": "code",
   "execution_count": 9,
   "metadata": {},
   "outputs": [],
   "source": [
    "def convert_nonzero_to_one(feature):\n",
    "    df[feature] = df[feature].apply(lambda x: 1 if x != 0 else x)\n",
    "    return df"
   ]
  },
  {
   "cell_type": "markdown",
   "metadata": {},
   "source": [
    "## Upload dataset"
   ]
  },
  {
   "cell_type": "code",
   "execution_count": 4,
   "metadata": {},
   "outputs": [
    {
     "data": {
      "text/html": [
       "<div>\n",
       "<style scoped>\n",
       "    .dataframe tbody tr th:only-of-type {\n",
       "        vertical-align: middle;\n",
       "    }\n",
       "\n",
       "    .dataframe tbody tr th {\n",
       "        vertical-align: top;\n",
       "    }\n",
       "\n",
       "    .dataframe thead th {\n",
       "        text-align: right;\n",
       "    }\n",
       "</style>\n",
       "<table border=\"1\" class=\"dataframe\">\n",
       "  <thead>\n",
       "    <tr style=\"text-align: right;\">\n",
       "      <th></th>\n",
       "      <th>Exposure</th>\n",
       "      <th>VehValue</th>\n",
       "      <th>VehAge</th>\n",
       "      <th>VehBody</th>\n",
       "      <th>Gender</th>\n",
       "      <th>DrivAge</th>\n",
       "      <th>ClaimOcc</th>\n",
       "      <th>ClaimNb</th>\n",
       "      <th>ClaimAmount</th>\n",
       "    </tr>\n",
       "  </thead>\n",
       "  <tbody>\n",
       "    <tr>\n",
       "      <th>0</th>\n",
       "      <td>0.303901</td>\n",
       "      <td>1.06</td>\n",
       "      <td>old cars</td>\n",
       "      <td>Hatchback</td>\n",
       "      <td>Female</td>\n",
       "      <td>young people</td>\n",
       "      <td>0</td>\n",
       "      <td>0</td>\n",
       "      <td>0.0</td>\n",
       "    </tr>\n",
       "    <tr>\n",
       "      <th>1</th>\n",
       "      <td>0.648871</td>\n",
       "      <td>1.03</td>\n",
       "      <td>young cars</td>\n",
       "      <td>Hatchback</td>\n",
       "      <td>Female</td>\n",
       "      <td>older work. people</td>\n",
       "      <td>0</td>\n",
       "      <td>0</td>\n",
       "      <td>0.0</td>\n",
       "    </tr>\n",
       "    <tr>\n",
       "      <th>2</th>\n",
       "      <td>0.569473</td>\n",
       "      <td>3.26</td>\n",
       "      <td>young cars</td>\n",
       "      <td>Utility</td>\n",
       "      <td>Female</td>\n",
       "      <td>young people</td>\n",
       "      <td>0</td>\n",
       "      <td>0</td>\n",
       "      <td>0.0</td>\n",
       "    </tr>\n",
       "    <tr>\n",
       "      <th>3</th>\n",
       "      <td>0.317591</td>\n",
       "      <td>4.14</td>\n",
       "      <td>young cars</td>\n",
       "      <td>Station wagon</td>\n",
       "      <td>Female</td>\n",
       "      <td>young people</td>\n",
       "      <td>0</td>\n",
       "      <td>0</td>\n",
       "      <td>0.0</td>\n",
       "    </tr>\n",
       "    <tr>\n",
       "      <th>4</th>\n",
       "      <td>0.648871</td>\n",
       "      <td>0.72</td>\n",
       "      <td>oldest cars</td>\n",
       "      <td>Hatchback</td>\n",
       "      <td>Female</td>\n",
       "      <td>young people</td>\n",
       "      <td>0</td>\n",
       "      <td>0</td>\n",
       "      <td>0.0</td>\n",
       "    </tr>\n",
       "  </tbody>\n",
       "</table>\n",
       "</div>"
      ],
      "text/plain": [
       "   Exposure  VehValue       VehAge        VehBody  Gender             DrivAge  \\\n",
       "0  0.303901      1.06     old cars      Hatchback  Female        young people   \n",
       "1  0.648871      1.03   young cars      Hatchback  Female  older work. people   \n",
       "2  0.569473      3.26   young cars        Utility  Female        young people   \n",
       "3  0.317591      4.14   young cars  Station wagon  Female        young people   \n",
       "4  0.648871      0.72  oldest cars      Hatchback  Female        young people   \n",
       "\n",
       "   ClaimOcc  ClaimNb  ClaimAmount  \n",
       "0         0        0          0.0  \n",
       "1         0        0          0.0  \n",
       "2         0        0          0.0  \n",
       "3         0        0          0.0  \n",
       "4         0        0          0.0  "
      ]
     },
     "execution_count": 4,
     "metadata": {},
     "output_type": "execute_result"
    }
   ],
   "source": [
    "dataset_name = \"ausprivauto0405\"\n",
    "\n",
    "# Load the RDA file\n",
    "result = pyreadr.read_r(dataset_name +\".rda\")\n",
    "\n",
    "# Extract the dataframe from the result\n",
    "df = result[dataset_name]\n",
    "\n",
    "# Print the dataframe\n",
    "df.head()"
   ]
  },
  {
   "cell_type": "code",
   "execution_count": 6,
   "metadata": {},
   "outputs": [
    {
     "data": {
      "text/plain": [
       "False"
      ]
     },
     "execution_count": 6,
     "metadata": {},
     "output_type": "execute_result"
    }
   ],
   "source": [
    "df.isnull().values.any()"
   ]
  },
  {
   "cell_type": "markdown",
   "metadata": {},
   "source": [
    "## Preprocessing"
   ]
  },
  {
   "cell_type": "code",
   "execution_count": 5,
   "metadata": {},
   "outputs": [],
   "source": [
    "y_label = \"ClaimNb\"\n",
    "features_to_drop = [\"ClaimOcc\", \"ClaimAmount\"]"
   ]
  },
  {
   "cell_type": "code",
   "execution_count": 10,
   "metadata": {},
   "outputs": [
    {
     "data": {
      "text/plain": [
       "ClaimNb\n",
       "0    63232\n",
       "1     4624\n",
       "Name: count, dtype: int64"
      ]
     },
     "execution_count": 10,
     "metadata": {},
     "output_type": "execute_result"
    }
   ],
   "source": [
    "df = convert_nonzero_to_one(y_label)\n",
    "df[y_label].value_counts()"
   ]
  },
  {
   "cell_type": "code",
   "execution_count": 11,
   "metadata": {},
   "outputs": [],
   "source": [
    "df = drop_features(features_to_drop)"
   ]
  },
  {
   "cell_type": "code",
   "execution_count": 12,
   "metadata": {},
   "outputs": [],
   "source": [
    "df['Gender'] = df['Gender'].map({'Female': 1, 'Male': 0})"
   ]
  },
  {
   "cell_type": "code",
   "execution_count": 13,
   "metadata": {},
   "outputs": [
    {
     "data": {
      "text/plain": [
       "Exposure     float64\n",
       "VehValue     float64\n",
       "VehAge      category\n",
       "VehBody     category\n",
       "Gender      category\n",
       "DrivAge     category\n",
       "ClaimNb        int64\n",
       "dtype: object"
      ]
     },
     "execution_count": 13,
     "metadata": {},
     "output_type": "execute_result"
    }
   ],
   "source": [
    "df.dtypes"
   ]
  },
  {
   "cell_type": "code",
   "execution_count": 16,
   "metadata": {},
   "outputs": [
    {
     "name": "stdout",
     "output_type": "stream",
     "text": [
      "Gender: Female\n",
      "  Positive outcome (ClaimNb = 1) rate: 6.86%\n",
      "  Total count: 38603\n",
      "  Positive count: 2648\n",
      "\n",
      "Gender: Male\n",
      "  Positive outcome (ClaimNb = 1) rate: 6.75%\n",
      "  Total count: 29253\n",
      "  Positive count: 1976\n",
      "\n"
     ]
    }
   ],
   "source": [
    "positive_outcome = 1  # Assuming 1 represents the positive outcome\n",
    "\n",
    "# Calculate counts\n",
    "total_counts = df['Gender'].value_counts()\n",
    "positive_counts = df[df[y_label] == 1]['Gender'].value_counts()\n",
    "\n",
    "# Calculate base rates\n",
    "base_rates = positive_counts / total_counts\n",
    "\n",
    "# Display results\n",
    "for gender, rate in base_rates.items():\n",
    "    gender_label = 'Female' if gender == 1 else 'Male'\n",
    "    print(f\"Gender: {gender_label}\")\n",
    "    print(f\"  Positive outcome ({y_label} = {positive_outcome}) rate: {rate:.2%}\")\n",
    "    print(f\"  Total count: {total_counts[gender]}\")\n",
    "    print(f\"  Positive count: {positive_counts[gender]}\")\n",
    "    print()"
   ]
  },
  {
   "cell_type": "markdown",
   "metadata": {},
   "source": [
    "## Save as a CSV"
   ]
  },
  {
   "cell_type": "code",
   "execution_count": 57,
   "metadata": {},
   "outputs": [],
   "source": [
    "df.to_csv(dataset_name + '.csv')"
   ]
  }
 ],
 "metadata": {
  "kernelspec": {
   "display_name": "fairness",
   "language": "python",
   "name": "python3"
  },
  "language_info": {
   "codemirror_mode": {
    "name": "ipython",
    "version": 3
   },
   "file_extension": ".py",
   "mimetype": "text/x-python",
   "name": "python",
   "nbconvert_exporter": "python",
   "pygments_lexer": "ipython3",
   "version": "3.12.3"
  }
 },
 "nbformat": 4,
 "nbformat_minor": 2
}
