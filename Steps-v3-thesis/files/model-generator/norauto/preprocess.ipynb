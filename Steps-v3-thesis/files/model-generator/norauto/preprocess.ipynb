{
 "cells": [
  {
   "cell_type": "code",
   "execution_count": null,
   "metadata": {},
   "outputs": [],
   "source": [
    "!pip install pyreadr"
   ]
  },
  {
   "cell_type": "code",
   "execution_count": null,
   "metadata": {},
   "outputs": [],
   "source": [
    "import pyreadr"
   ]
  },
  {
   "cell_type": "markdown",
   "metadata": {},
   "source": [
    "## Helper functions"
   ]
  },
  {
   "cell_type": "code",
   "execution_count": null,
   "metadata": {},
   "outputs": [],
   "source": [
    "def convert_nonzero_to_one(feature):\n",
    "    df[feature] = df[feature].apply(lambda x: 1 if x != 0 else x)\n",
    "    return df"
   ]
  },
  {
   "cell_type": "code",
   "execution_count": null,
   "metadata": {},
   "outputs": [],
   "source": [
    "def balance_variable(df, features):\n",
    "    # Create a new column combining the features\n",
    "    df['group_key'] = df[features[0]].astype(str) + '_' + df[features[1]].astype(str)\n",
    "\n",
    "    # Calculate the minimum count for each group combination\n",
    "    min_counts = df['group_key'].value_counts().min()\n",
    "\n",
    "    # Sample an equal number of rows for each group combination\n",
    "    balanced_df = df.groupby('group_key', group_keys=False).apply(lambda x: x.sample(min_counts))\n",
    "\n",
    "    # Drop the group_key column after balancing\n",
    "    balanced_df = balanced_df.drop(columns=['group_key'])\n",
    "\n",
    "    return balanced_df"
   ]
  },
  {
   "cell_type": "code",
   "execution_count": null,
   "metadata": {},
   "outputs": [],
   "source": [
    "def drop_features(drop_features):\n",
    "    df_final = df.drop(drop_features, axis=1)\n",
    "    return df_final"
   ]
  },
  {
   "cell_type": "markdown",
   "metadata": {},
   "source": [
    "## Upload dataset"
   ]
  },
  {
   "cell_type": "code",
   "execution_count": null,
   "metadata": {},
   "outputs": [],
   "source": [
    "dataset_name = \"norauto\"\n",
    "\n",
    "# Load the RDA file\n",
    "result = pyreadr.read_r(dataset_name +\".rda\")\n",
    "\n",
    "# Extract the dataframe from the result\n",
    "df = result[dataset_name]\n",
    "\n",
    "# Print the dataframe\n",
    "df.head()"
   ]
  },
  {
   "cell_type": "code",
   "execution_count": null,
   "metadata": {},
   "outputs": [],
   "source": [
    "y_label = \"ClaimAmount\"\n",
    "features_to_drop = [\"NbClaim\"]"
   ]
  },
  {
   "cell_type": "code",
   "execution_count": null,
   "metadata": {},
   "outputs": [],
   "source": [
    "df.isnull().values.any()"
   ]
  },
  {
   "cell_type": "markdown",
   "metadata": {},
   "source": [
    "## Preprocessing"
   ]
  },
  {
   "cell_type": "code",
   "execution_count": null,
   "metadata": {},
   "outputs": [],
   "source": [
    "df = df.sample(frac=1).reset_index(drop=True)  # Shuffle the DataFrame\n",
    "df = df.drop(df.index[:700]).reset_index(drop=True)  # Drop the first 700 rows after shuffling"
   ]
  },
  {
   "cell_type": "code",
   "execution_count": null,
   "metadata": {},
   "outputs": [],
   "source": [
    "df = convert_nonzero_to_one(y_label)\n",
    "df[y_label].value_counts()"
   ]
  },
  {
   "cell_type": "code",
   "execution_count": null,
   "metadata": {},
   "outputs": [],
   "source": [
    "df = drop_features(features_to_drop)"
   ]
  },
  {
   "cell_type": "code",
   "execution_count": null,
   "metadata": {},
   "outputs": [],
   "source": [
    "df.dtypes"
   ]
  },
  {
   "cell_type": "code",
   "execution_count": null,
   "metadata": {},
   "outputs": [],
   "source": [
    "positive_outcome = 1  # Assuming 1 represents the positive outcome\n",
    "\n",
    "# Calculate counts\n",
    "total_counts = df['Male'].value_counts()\n",
    "positive_counts = df[df[y_label] == 1]['Male'].value_counts()\n",
    "\n",
    "# Calculate base rates\n",
    "base_rates = positive_counts / total_counts\n",
    "\n",
    "# Display results\n",
    "for gender, rate in base_rates.items():\n",
    "    gender_label = 'Female' if gender == 1 else 'Male'\n",
    "    print(f\"Gender: {gender_label}\")\n",
    "    print(f\"  Positive outcome ({y_label} = {positive_outcome}) rate: {rate:.2%}\")\n",
    "    print(f\"  Total count: {total_counts[gender]}\")\n",
    "    print(f\"  Positive count: {positive_counts[gender]}\")\n",
    "    print()"
   ]
  },
  {
   "cell_type": "markdown",
   "metadata": {},
   "source": [
    "## Save as a CSV"
   ]
  },
  {
   "cell_type": "code",
   "execution_count": null,
   "metadata": {},
   "outputs": [],
   "source": [
    "df.to_csv(dataset_name + \"/\" + dataset_name + '.csv')"
   ]
  }
 ],
 "metadata": {
  "kernelspec": {
   "display_name": "fairness",
   "language": "python",
   "name": "python3"
  },
  "language_info": {
   "codemirror_mode": {
    "name": "ipython",
    "version": 3
   },
   "file_extension": ".py",
   "mimetype": "text/x-python",
   "name": "python",
   "nbconvert_exporter": "python",
   "pygments_lexer": "ipython3",
   "version": "3.12.3"
  }
 },
 "nbformat": 4,
 "nbformat_minor": 2
}
