{
 "cells": [
  {
   "cell_type": "code",
   "execution_count": 1,
   "metadata": {
    "execution": {
     "iopub.execute_input": "2024-08-22T13:24:43.403761Z",
     "iopub.status.busy": "2024-08-22T13:24:43.403494Z",
     "iopub.status.idle": "2024-08-22T13:24:44.256502Z",
     "shell.execute_reply": "2024-08-22T13:24:44.255435Z"
    }
   },
   "outputs": [],
   "source": [
    "import pandas as pd\n",
    "import warnings\n",
    "\n",
    "from sklearn.model_selection import train_test_split\n",
    "from sklearn.preprocessing import OneHotEncoder\n",
    "from sklearn.metrics import accuracy_score, precision_score, recall_score, f1_score\n",
    "from sklearn.linear_model import LogisticRegression\n",
    "from sklearn.preprocessing import StandardScaler\n",
    "from sklearn.exceptions import ConvergenceWarning\n",
    "\n",
    "# Filter out the ConvergenceWarning\n",
    "warnings.filterwarnings(\"ignore\", category=ConvergenceWarning)\n",
    "warnings.filterwarnings(\"ignore\", category=FutureWarning)"
   ]
  },
  {
   "cell_type": "code",
   "execution_count": 2,
   "metadata": {
    "execution": {
     "iopub.execute_input": "2024-08-22T13:24:44.261911Z",
     "iopub.status.busy": "2024-08-22T13:24:44.261435Z",
     "iopub.status.idle": "2024-08-22T13:24:44.280809Z",
     "shell.execute_reply": "2024-08-22T13:24:44.279998Z"
    }
   },
   "outputs": [
    {
     "data": {
      "text/html": [
       "<div>\n",
       "<style scoped>\n",
       "    .dataframe tbody tr th:only-of-type {\n",
       "        vertical-align: middle;\n",
       "    }\n",
       "\n",
       "    .dataframe tbody tr th {\n",
       "        vertical-align: top;\n",
       "    }\n",
       "\n",
       "    .dataframe thead th {\n",
       "        text-align: right;\n",
       "    }\n",
       "</style>\n",
       "<table border=\"1\" class=\"dataframe\">\n",
       "  <thead>\n",
       "    <tr style=\"text-align: right;\">\n",
       "      <th></th>\n",
       "      <th>Male</th>\n",
       "      <th>Young</th>\n",
       "      <th>DistLimit</th>\n",
       "      <th>GeoRegion</th>\n",
       "      <th>Expo</th>\n",
       "      <th>ClaimAmount</th>\n",
       "    </tr>\n",
       "  </thead>\n",
       "  <tbody>\n",
       "    <tr>\n",
       "      <th>171255</th>\n",
       "      <td>0</td>\n",
       "      <td>1</td>\n",
       "      <td>no limit</td>\n",
       "      <td>Medium+</td>\n",
       "      <td>0.778</td>\n",
       "      <td>0.0</td>\n",
       "    </tr>\n",
       "    <tr>\n",
       "      <th>27327</th>\n",
       "      <td>0</td>\n",
       "      <td>0</td>\n",
       "      <td>8000 km</td>\n",
       "      <td>High+</td>\n",
       "      <td>0.104</td>\n",
       "      <td>0.0</td>\n",
       "    </tr>\n",
       "    <tr>\n",
       "      <th>77914</th>\n",
       "      <td>0</td>\n",
       "      <td>0</td>\n",
       "      <td>12000 km</td>\n",
       "      <td>High+</td>\n",
       "      <td>1.003</td>\n",
       "      <td>0.0</td>\n",
       "    </tr>\n",
       "    <tr>\n",
       "      <th>150038</th>\n",
       "      <td>0</td>\n",
       "      <td>0</td>\n",
       "      <td>12000 km</td>\n",
       "      <td>High-</td>\n",
       "      <td>0.156</td>\n",
       "      <td>0.0</td>\n",
       "    </tr>\n",
       "    <tr>\n",
       "      <th>150050</th>\n",
       "      <td>0</td>\n",
       "      <td>1</td>\n",
       "      <td>no limit</td>\n",
       "      <td>Medium+</td>\n",
       "      <td>0.252</td>\n",
       "      <td>0.0</td>\n",
       "    </tr>\n",
       "  </tbody>\n",
       "</table>\n",
       "</div>"
      ],
      "text/plain": [
       "        Male  Young DistLimit GeoRegion   Expo  ClaimAmount\n",
       "171255     0      1  no limit   Medium+  0.778          0.0\n",
       "27327      0      0   8000 km     High+  0.104          0.0\n",
       "77914      0      0  12000 km     High+  1.003          0.0\n",
       "150038     0      0  12000 km     High-  0.156          0.0\n",
       "150050     0      1  no limit   Medium+  0.252          0.0"
      ]
     },
     "execution_count": 2,
     "metadata": {},
     "output_type": "execute_result"
    }
   ],
   "source": [
    "# Set up parameters\n",
    "dataset_name = \"norauto\"\n",
    "y_label = \"ClaimAmount\"\n",
    "\n",
    "# Specify the file path of the CSV file\n",
    "csv_file_path =  dataset_name + \".csv\"\n",
    "\n",
    "# Load the CSV file as a DataFrame, ignoring the first column\n",
    "df = pd.read_csv(csv_file_path, index_col=0)\n",
    "\n",
    "# Display the DataFrame\n",
    "df.head()"
   ]
  },
  {
   "cell_type": "code",
   "execution_count": 3,
   "metadata": {
    "execution": {
     "iopub.execute_input": "2024-08-22T13:24:44.284311Z",
     "iopub.status.busy": "2024-08-22T13:24:44.284038Z",
     "iopub.status.idle": "2024-08-22T13:24:44.306521Z",
     "shell.execute_reply": "2024-08-22T13:24:44.305753Z"
    }
   },
   "outputs": [],
   "source": [
    "categorical_features = df.select_dtypes(include=['category', 'object']).columns.tolist()\n",
    "numerical_features = df.select_dtypes(include=['number']).columns.difference([y_label]).tolist()\n",
    "\n",
    "# Replace the categorical values with the numeric equivalents that we have above\n",
    "categoricalFeatures = ['DistLimit',\t'GeoRegion']\n",
    "\n",
    "# Iterate through the list of categorical features and one hot encode them.\n",
    "for feature in categoricalFeatures:\n",
    "    onehot = pd.get_dummies(df[feature], prefix=feature)\n",
    "    df = df.drop(feature, axis=1)\n",
    "    df = df.join(onehot)\n",
    "X = df.drop(columns=[\"ClaimAmount\"])\n",
    "y = df[\"ClaimAmount\"].values\n",
    "\n",
    "scaler = StandardScaler()\n",
    "data_std = scaler.fit_transform(X)\n",
    "x_train,x_test,y_train,y_test = train_test_split(X, y, test_size=0.2, random_state = 0)\n",
    "# Liblinear is a solver that is very fast for small datasets, like ours\n",
    "model = LogisticRegression(solver='liblinear', class_weight='balanced', max_iter=100)\n",
    "\n",
    "# Fit the model to the training data\n",
    "model.fit(x_train, y_train)\n",
    "\n",
    "y_pred = model.predict(x_test)"
   ]
  },
  {
   "cell_type": "code",
   "execution_count": 4,
   "metadata": {
    "execution": {
     "iopub.execute_input": "2024-08-22T13:24:44.310111Z",
     "iopub.status.busy": "2024-08-22T13:24:44.309826Z",
     "iopub.status.idle": "2024-08-22T13:24:44.323147Z",
     "shell.execute_reply": "2024-08-22T13:24:44.322301Z"
    }
   },
   "outputs": [
    {
     "name": "stdout",
     "output_type": "stream",
     "text": [
      "Test performance: Accuracy; 0.62445, Precision: 0.67593, F1 Score:, 0.62931, Recall: 0.58871\n"
     ]
    }
   ],
   "source": [
    "# Evaluate the model\n",
    "print(\"Test performance: \", end=\"\")\n",
    "print(f\"Accuracy; {accuracy_score(y_test, y_pred):.5f}\", end=\", \")\n",
    "print(f\"Precision: {precision_score(y_test, y_pred, zero_division=0):.5f}\", end=\", \")\n",
    "print(f\"F1 Score:, {f1_score(y_test, y_pred):.5f}\", end=\", \")\n",
    "print(f\"Recall: {recall_score(y_test, y_pred):.5f}\")"
   ]
  },
  {
   "cell_type": "code",
   "execution_count": 5,
   "metadata": {
    "execution": {
     "iopub.execute_input": "2024-08-22T13:24:44.326775Z",
     "iopub.status.busy": "2024-08-22T13:24:44.326476Z",
     "iopub.status.idle": "2024-08-22T13:24:44.361482Z",
     "shell.execute_reply": "2024-08-22T13:24:44.360450Z"
    }
   },
   "outputs": [
    {
     "name": "stdout",
     "output_type": "stream",
     "text": [
      "Equalized Odds Difference:  0.28688524590163933\n"
     ]
    }
   ],
   "source": [
    "from fairlearn.metrics import equalized_odds_difference\n",
    "\n",
    "sensitive_feature = x_test['Male']\n",
    "\n",
    "# Calculate the equalized odds difference\n",
    "eod = equalized_odds_difference(y_test, y_pred, sensitive_features=sensitive_feature)\n",
    "\n",
    "print(\"Equalized Odds Difference: \", eod)"
   ]
  },
  {
   "cell_type": "code",
   "execution_count": 6,
   "metadata": {
    "execution": {
     "iopub.execute_input": "2024-08-22T13:24:44.365410Z",
     "iopub.status.busy": "2024-08-22T13:24:44.365097Z",
     "iopub.status.idle": "2024-08-22T13:24:44.736189Z",
     "shell.execute_reply": "2024-08-22T13:24:44.735478Z"
    }
   },
   "outputs": [
    {
     "name": "stdout",
     "output_type": "stream",
     "text": [
      "Mitigated test performance: Accuracy: 0.63319, Precision: 0.67544, F1 Score: 0.64706, Recall: 0.62097\n",
      "Mitigated Equalized Odds Difference:  0.21497764530551416\n"
     ]
    }
   ],
   "source": [
    "from fairlearn.reductions import ExponentiatedGradient, EqualizedOdds\n",
    "\n",
    "# Define the fairness constraint\n",
    "constraint = EqualizedOdds()\n",
    "\n",
    "# Define the Exponentiated Gradient mitigation method\n",
    "eg = ExponentiatedGradient(estimator=model, constraints=constraint, max_iter=1000)\n",
    "\n",
    "# Fit the mitigated model\n",
    "eg.fit(x_train, y_train, sensitive_features=x_train['Male'])\n",
    "\n",
    "# Predict on the test set using the mitigated model\n",
    "y_pred_mitigated = eg.predict(x_test)\n",
    "\n",
    "# Evaluate the mitigated model\n",
    "print(\"Mitigated test performance: \", end=\"\")\n",
    "print(f\"Accuracy: {accuracy_score(y_test, y_pred_mitigated):.5f}\", end=\", \")\n",
    "print(f\"Precision: {precision_score(y_test, y_pred_mitigated, zero_division=0):.5f}\", end=\", \")\n",
    "print(f\"F1 Score: {f1_score(y_test, y_pred_mitigated):.5f}\", end=\", \")\n",
    "print(f\"Recall: {recall_score(y_test, y_pred_mitigated):.5f}\")\n",
    "\n",
    "# Calculate the equalized odds difference for the mitigated model\n",
    "eod_mitigated = equalized_odds_difference(y_test, y_pred_mitigated, sensitive_features=sensitive_feature)\n",
    "\n",
    "print(\"Mitigated Equalized Odds Difference: \", eod_mitigated)"
   ]
  }
 ],
 "metadata": {
  "kernelspec": {
   "display_name": "fairness",
   "language": "python",
   "name": "python3"
  },
  "language_info": {
   "codemirror_mode": {
    "name": "ipython",
    "version": 3
   },
   "file_extension": ".py",
   "mimetype": "text/x-python",
   "name": "python",
   "nbconvert_exporter": "python",
   "pygments_lexer": "ipython3",
   "version": "3.12.3"
  },
  "path": "files/model-generator/norauto/"
 },
 "nbformat": 4,
 "nbformat_minor": 2
}
