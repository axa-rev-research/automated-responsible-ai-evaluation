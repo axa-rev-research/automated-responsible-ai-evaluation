{
 "cells": [
  {
   "cell_type": "code",
   "execution_count": null,
   "metadata": {
    "execution": {
     "iopub.execute_input": "2024-07-12T06:24:09.500653Z",
     "iopub.status.busy": "2024-07-12T06:24:09.499794Z",
     "iopub.status.idle": "2024-07-12T06:24:10.170534Z",
     "shell.execute_reply": "2024-07-12T06:24:10.169421Z",
     "shell.execute_reply.started": "2024-07-12T06:24:09.500562Z"
    },
    "tags": []
   },
   "outputs": [],
   "source": [
    "import os\n",
    "from transformers import AutoModelForCausalLM, AutoTokenizer, AutoConfig, BitsAndBytesConfig"
   ]
  },
  {
   "cell_type": "markdown",
   "metadata": {},
   "source": [
    "### Helper functions"
   ]
  },
  {
   "cell_type": "code",
   "execution_count": null,
   "metadata": {
    "execution": {
     "iopub.execute_input": "2024-07-12T06:24:11.277601Z",
     "iopub.status.busy": "2024-07-12T06:24:11.276612Z",
     "iopub.status.idle": "2024-07-12T06:24:11.290691Z",
     "shell.execute_reply": "2024-07-12T06:24:11.288444Z",
     "shell.execute_reply.started": "2024-07-12T06:24:11.277499Z"
    },
    "tags": []
   },
   "outputs": [],
   "source": [
    "def save_result(path_name, file_name, result):\n",
    "    \"\"\"\n",
    "    Save the result to a file.\n",
    "    \n",
    "    Args:\n",
    "        path_name (str): Path to save the file\n",
    "        file_name (str): Name of the file\n",
    "        result (str): Content to save\n",
    "    \"\"\"\n",
    "    file_path = os.path.join(path_name, f\"{file_name}.md\")\n",
    "    os.makedirs(os.path.dirname(file_path), exist_ok=True)\n",
    "    \n",
    "    with open(file_path, 'w') as file:\n",
    "        file.write(result)\n",
    "        \n",
    "def setup_environment():\n",
    "    \"\"\"Set up the environment variables.\"\"\"\n",
    "    try:\n",
    "        hf_key = os.environ[\"LLAMA3_KEY\"]\n",
    "    except KeyError:\n",
    "        print(\"Please set the environment variable LLAMA3_KEY\")\n",
    "        hf_key = input(\"Enter your HuggingFace API key: \")\n",
    "    return hf_key\n",
    "\n",
    "def load_model(hf_key):\n",
    "    \"\"\"Load the LLM model and tokenizer.\"\"\"\n",
    "    quant_config = BitsAndBytesConfig(load_in_8bit=True)\n",
    "    model_name = \"meta-llama/Meta-Llama-3-8B-Instruct\"\n",
    "    \n",
    "    tokenizer = AutoTokenizer.from_pretrained(model_name, token=hf_key)\n",
    "    model = AutoModelForCausalLM.from_pretrained(model_name, token=hf_key, quantization_config=quant_config, device_map=\"auto\", max_length=8192)\n",
    "    config = AutoConfig.from_pretrained(model_name, token=hf_key)\n",
    "    \n",
    "    return model, tokenizer, config\n",
    "\n",
    "def generate_response(model, tokenizer, messages, config):\n",
    "    \"\"\"Generate a response from the model.\"\"\"\n",
    "    model_inputs = tokenizer.apply_chat_template(\n",
    "        messages,\n",
    "        add_generation_prompt=True,\n",
    "        return_tensors=\"pt\"\n",
    "    ).to('cuda')\n",
    "\n",
    "    terminators = [\n",
    "        tokenizer.eos_token_id,\n",
    "        tokenizer.convert_tokens_to_ids(\"<|eot_id|>\")\n",
    "    ]\n",
    "\n",
    "    generated_ids = model.generate(\n",
    "        model_inputs,\n",
    "        do_sample=True,\n",
    "        temperature=0.1,\n",
    "        eos_token_id=terminators,\n",
    "        pad_token_id=tokenizer.eos_token_id,\n",
    "        max_length=4500\n",
    "    )\n",
    "\n",
    "    print(f\"Tokens used: {len(model_inputs[0])} out of {config.max_position_embeddings}\")\n",
    "\n",
    "    response = generated_ids[0][model_inputs.shape[-1]:]\n",
    "    return tokenizer.decode(response, skip_special_tokens=True)"
   ]
  },
  {
   "cell_type": "markdown",
   "metadata": {},
   "source": [
    "## 1. Set up the model"
   ]
  },
  {
   "cell_type": "markdown",
   "metadata": {},
   "source": [
    "This step includes downloading the LLM from Hugging Face and setting up the API key.\n",
    "\n",
    "You can temporarily add your API key by using Python with os.environ[\"LLAMA3_KEY\"]=\"YOUR_API_KEY\"\n",
    "\n",
    "WARNING: NEVER SHARE/PUSH YOUR API KEY."
   ]
  },
  {
   "cell_type": "code",
   "execution_count": null,
   "metadata": {},
   "outputs": [],
   "source": [
    "hf_key = setup_environment()\n",
    "model, tokenizer, config = load_model(hf_key)"
   ]
  },
  {
   "cell_type": "markdown",
   "metadata": {},
   "source": [
    "## 2. Set file directories"
   ]
  },
  {
   "cell_type": "markdown",
   "metadata": {},
   "source": [
    "### Sample files and templates for the LLM"
   ]
  },
  {
   "cell_type": "code",
   "execution_count": null,
   "metadata": {
    "execution": {
     "iopub.execute_input": "2024-07-12T06:27:13.742740Z",
     "iopub.status.busy": "2024-07-12T06:27:13.741747Z",
     "iopub.status.idle": "2024-07-12T06:27:13.760521Z",
     "shell.execute_reply": "2024-07-12T06:27:13.758270Z",
     "shell.execute_reply.started": "2024-07-12T06:27:13.742670Z"
    },
    "tags": []
   },
   "outputs": [],
   "source": [
    "analysis_template_path = \"files/templates/analysis-template.md\"\n",
    "sample_case_path = \"files/templates/sample-case.md\"\n",
    "sample_case_2_path = \"files/templates/sample-case-2.md\"\n",
    "sample_analysis_path = \"files/templates/sample-analysis.md\"\n",
    "sample_analysis_2_path = \"files/templates/sample-analysis-2.md\"\n",
    "\n",
    "analysis_template = open(analysis_template_path, \"r\").read()\n",
    "\n",
    "sample_case = open(sample_case_path, \"r\").read()\n",
    "sample_analysis = open(sample_analysis_path, \"r\").read()\n",
    "\n",
    "sample_case_2 = open(sample_case_2_path, \"r\").read()\n",
    "sample_analysis_2 = open(sample_analysis_2_path, \"r\").read()"
   ]
  },
  {
   "cell_type": "markdown",
   "metadata": {},
   "source": [
    "### Individual case to analyze"
   ]
  },
  {
   "cell_type": "code",
   "execution_count": null,
   "metadata": {
    "execution": {
     "iopub.execute_input": "2024-07-12T06:27:16.988656Z",
     "iopub.status.busy": "2024-07-12T06:27:16.987736Z",
     "iopub.status.idle": "2024-07-12T06:27:17.001396Z",
     "shell.execute_reply": "2024-07-12T06:27:16.998746Z",
     "shell.execute_reply.started": "2024-07-12T06:27:16.988586Z"
    },
    "tags": []
   },
   "outputs": [],
   "source": [
    "case_name = \"norauto\"\n",
    "\n",
    "file_path = \"files/cases/\" +  case_name + \"/description.md\"\n",
    "case_description = open(file_path, \"r\").read()"
   ]
  },
  {
   "cell_type": "markdown",
   "metadata": {},
   "source": [
    "## 3. Start Analysis"
   ]
  },
  {
   "cell_type": "code",
   "execution_count": null,
   "metadata": {
    "execution": {
     "iopub.execute_input": "2024-07-12T06:33:07.742305Z",
     "iopub.status.busy": "2024-07-12T06:33:07.741419Z",
     "iopub.status.idle": "2024-07-12T06:33:07.755230Z",
     "shell.execute_reply": "2024-07-12T06:33:07.752990Z",
     "shell.execute_reply.started": "2024-07-12T06:33:07.742233Z"
    },
    "tags": []
   },
   "outputs": [],
   "source": [
    "messages = [\n",
    "    {\"role\": \"system\", \"content\": f\"You are an expert in AI ethics, law, and engineering, specializing in addressing discrimination and fairness issues in models. Please conduct a detailed analysis of the provided dataset, considering ethical, legal, and engineering aspects related to fairness and bias. The analysis should be structured in a markdown format with the following sections: \\n{analysis_template}\"},\n",
    "    {\"role\": \"user\", \"content\": f\"Data and use case: {sample_case}\"},\n",
    "    {\"role\": \"assistant\", \"content\": sample_analysis},\n",
    "    {\"role\": \"user\", \"content\": f\"This is a valid analysis. Please do an analysis with this dataset and use case: {sample_case_2}\"},\n",
    "    {\"role\": \"assistant\", \"content\": sample_analysis_2},\n",
    "    {\"role\": \"user\", \"content\": f\"This is a valid analysis. Please do an analysis with this dataset and use case: {case_description}\"},\n",
    "]"
   ]
  },
  {
   "cell_type": "code",
   "execution_count": null,
   "metadata": {},
   "outputs": [],
   "source": [
    "result = generate_response(model, tokenizer, messages, config)\n",
    "print(result)"
   ]
  },
  {
   "cell_type": "code",
   "execution_count": null,
   "metadata": {},
   "outputs": [],
   "source": [
    "case_path = \"files/cases/\" + case_name + \"/\"\n",
    "save_result(case_path, \"ethics-analysis\", result)"
   ]
  }
 ],
 "metadata": {
  "kernelspec": {
   "display_name": "Python3",
   "language": "python",
   "name": "python3"
  },
  "language_info": {
   "codemirror_mode": {
    "name": "ipython",
    "version": 3
   },
   "file_extension": ".py",
   "mimetype": "text/x-python",
   "name": "python",
   "nbconvert_exporter": "python",
   "pygments_lexer": "ipython3",
   "version": "3.12.3"
  }
 },
 "nbformat": 4,
 "nbformat_minor": 4
}
